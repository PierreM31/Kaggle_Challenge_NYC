{
  "nbformat": 4,
  "nbformat_minor": 0,
  "metadata": {
    "colab": {
      "name": "model_test.ipynb",
      "version": "0.3.2",
      "provenance": [],
      "toc_visible": true,
      "include_colab_link": true
    },
    "kernelspec": {
      "name": "python3",
      "display_name": "Python 3"
    },
    "accelerator": "GPU"
  },
  "cells": [
    {
      "cell_type": "markdown",
      "metadata": {
        "id": "view-in-github",
        "colab_type": "text"
      },
      "source": [
        "<a href=\"https://colab.research.google.com/github/PierreM31/Kaggle_Challenge_NYC/blob/master/model_test.ipynb\" target=\"_parent\"><img src=\"https://colab.research.google.com/assets/colab-badge.svg\" alt=\"Open In Colab\"/></a>"
      ]
    },
    {
      "metadata": {
        "id": "grsGjIqV6XOO",
        "colab_type": "text"
      },
      "cell_type": "markdown",
      "source": [
        "## Import lib"
      ]
    },
    {
      "metadata": {
        "id": "53SX9snJ6cD2",
        "colab_type": "text"
      },
      "cell_type": "markdown",
      "source": [
        "### Import TensorFlow GPU"
      ]
    },
    {
      "metadata": {
        "id": "uwTGc5-ifiqy",
        "colab_type": "code",
        "outputId": "86c581cb-4370-4536-e8af-b6a877946fd4",
        "colab": {
          "base_uri": "https://localhost:8080/",
          "height": 34
        }
      },
      "cell_type": "code",
      "source": [
        "import tensorflow as tf\n",
        "device_name = tf.test.gpu_device_name()\n",
        "if device_name != '/device:GPU:0':\n",
        "  raise SystemError('GPU device not found')\n",
        "print('Found GPU at: {}'.format(device_name))"
      ],
      "execution_count": 104,
      "outputs": [
        {
          "output_type": "stream",
          "text": [
            "Found GPU at: /device:GPU:0\n"
          ],
          "name": "stdout"
        }
      ]
    },
    {
      "metadata": {
        "id": "c9Nc_YgZ6xb_",
        "colab_type": "text"
      },
      "cell_type": "markdown",
      "source": [
        "### Other import\n"
      ]
    },
    {
      "metadata": {
        "id": "iE8DLzxofqkk",
        "colab_type": "code",
        "colab": {}
      },
      "cell_type": "code",
      "source": [
        "import numpy as np\n",
        "import pandas as pd\n",
        "import matplotlib.pyplot as plt\n",
        "from math import floor, ceil\n",
        "import seaborn as sns\n",
        "import random\n",
        "from keras.callbacks import LambdaCallback\n",
        "% matplotlib inline\n",
        "plt.style.use('seaborn-whitegrid')"
      ],
      "execution_count": 0,
      "outputs": []
    },
    {
      "metadata": {
        "id": "_NMc3A5dr2DG",
        "colab_type": "text"
      },
      "cell_type": "markdown",
      "source": [
        "## Import data from BigQuerry "
      ]
    },
    {
      "metadata": {
        "id": "5GNLipqJk7k5",
        "colab_type": "code",
        "colab": {}
      },
      "cell_type": "code",
      "source": [
        "#TODO\n",
        "\"\"\"from google.cloud import bigquery\n",
        "\n",
        "client = bigquery.Client(project='bigquery-public-data')\"\"\""
      ],
      "execution_count": 0,
      "outputs": []
    },
    {
      "metadata": {
        "id": "viBQSO1UsAhW",
        "colab_type": "text"
      },
      "cell_type": "markdown",
      "source": [
        "## Import data directly from Colab\n"
      ]
    },
    {
      "metadata": {
        "id": "0m6VLzNUsJ9m",
        "colab_type": "code",
        "outputId": "1e88767d-6771-4e24-9633-e1fb7a3876a4",
        "colab": {
          "base_uri": "https://localhost:8080/",
          "height": 204
        }
      },
      "cell_type": "code",
      "source": [
        "df_train = pd.read_csv('train.csv', nrows=500_000, parse_dates=[\"pickup_datetime\"])\n",
        "df_train.head()"
      ],
      "execution_count": 106,
      "outputs": [
        {
          "output_type": "execute_result",
          "data": {
            "text/html": [
              "<div>\n",
              "<style scoped>\n",
              "    .dataframe tbody tr th:only-of-type {\n",
              "        vertical-align: middle;\n",
              "    }\n",
              "\n",
              "    .dataframe tbody tr th {\n",
              "        vertical-align: top;\n",
              "    }\n",
              "\n",
              "    .dataframe thead th {\n",
              "        text-align: right;\n",
              "    }\n",
              "</style>\n",
              "<table border=\"1\" class=\"dataframe\">\n",
              "  <thead>\n",
              "    <tr style=\"text-align: right;\">\n",
              "      <th></th>\n",
              "      <th>key</th>\n",
              "      <th>fare_amount</th>\n",
              "      <th>pickup_datetime</th>\n",
              "      <th>pickup_longitude</th>\n",
              "      <th>pickup_latitude</th>\n",
              "      <th>dropoff_longitude</th>\n",
              "      <th>dropoff_latitude</th>\n",
              "      <th>passenger_count</th>\n",
              "    </tr>\n",
              "  </thead>\n",
              "  <tbody>\n",
              "    <tr>\n",
              "      <th>0</th>\n",
              "      <td>2012-01-18 10:15:28.0000001</td>\n",
              "      <td>5.3</td>\n",
              "      <td>2012-01-18 10:15:28</td>\n",
              "      <td>-73.999906</td>\n",
              "      <td>40.727304</td>\n",
              "      <td>-74.001324</td>\n",
              "      <td>40.736911</td>\n",
              "      <td>1</td>\n",
              "    </tr>\n",
              "    <tr>\n",
              "      <th>1</th>\n",
              "      <td>2012-09-06 14:48:00.00000030</td>\n",
              "      <td>21.5</td>\n",
              "      <td>2012-09-06 14:48:00</td>\n",
              "      <td>-73.974438</td>\n",
              "      <td>40.754583</td>\n",
              "      <td>-73.979488</td>\n",
              "      <td>40.764328</td>\n",
              "      <td>5</td>\n",
              "    </tr>\n",
              "    <tr>\n",
              "      <th>2</th>\n",
              "      <td>2009-05-02 22:19:14.0000002</td>\n",
              "      <td>10.5</td>\n",
              "      <td>2009-05-02 22:19:14</td>\n",
              "      <td>0.000000</td>\n",
              "      <td>0.000000</td>\n",
              "      <td>0.000000</td>\n",
              "      <td>0.000000</td>\n",
              "      <td>1</td>\n",
              "    </tr>\n",
              "    <tr>\n",
              "      <th>3</th>\n",
              "      <td>2009-10-31 12:10:59.0000001</td>\n",
              "      <td>5.7</td>\n",
              "      <td>2009-10-31 12:10:59</td>\n",
              "      <td>0.000000</td>\n",
              "      <td>0.000000</td>\n",
              "      <td>0.000000</td>\n",
              "      <td>0.000000</td>\n",
              "      <td>1</td>\n",
              "    </tr>\n",
              "    <tr>\n",
              "      <th>4</th>\n",
              "      <td>2012-10-30 12:33:41.0000001</td>\n",
              "      <td>4.0</td>\n",
              "      <td>2012-10-30 12:33:41</td>\n",
              "      <td>-73.989309</td>\n",
              "      <td>40.763072</td>\n",
              "      <td>-73.988742</td>\n",
              "      <td>40.758697</td>\n",
              "      <td>1</td>\n",
              "    </tr>\n",
              "  </tbody>\n",
              "</table>\n",
              "</div>"
            ],
            "text/plain": [
              "                            key  fare_amount     pickup_datetime  \\\n",
              "0   2012-01-18 10:15:28.0000001          5.3 2012-01-18 10:15:28   \n",
              "1  2012-09-06 14:48:00.00000030         21.5 2012-09-06 14:48:00   \n",
              "2   2009-05-02 22:19:14.0000002         10.5 2009-05-02 22:19:14   \n",
              "3   2009-10-31 12:10:59.0000001          5.7 2009-10-31 12:10:59   \n",
              "4   2012-10-30 12:33:41.0000001          4.0 2012-10-30 12:33:41   \n",
              "\n",
              "   pickup_longitude  pickup_latitude  dropoff_longitude  dropoff_latitude  \\\n",
              "0        -73.999906        40.727304         -74.001324         40.736911   \n",
              "1        -73.974438        40.754583         -73.979488         40.764328   \n",
              "2          0.000000         0.000000           0.000000          0.000000   \n",
              "3          0.000000         0.000000           0.000000          0.000000   \n",
              "4        -73.989309        40.763072         -73.988742         40.758697   \n",
              "\n",
              "   passenger_count  \n",
              "0                1  \n",
              "1                5  \n",
              "2                1  \n",
              "3                1  \n",
              "4                1  "
            ]
          },
          "metadata": {
            "tags": []
          },
          "execution_count": 106
        }
      ]
    },
    {
      "metadata": {
        "id": "uuWjeEhS57T-",
        "colab_type": "text"
      },
      "cell_type": "markdown",
      "source": [
        "## Preprocessing"
      ]
    },
    {
      "metadata": {
        "id": "NJWel4Lp72Hd",
        "colab_type": "code",
        "outputId": "c3c85be9-dd71-4617-f991-d735cce613b8",
        "colab": {
          "base_uri": "https://localhost:8080/",
          "height": 34
        }
      },
      "cell_type": "code",
      "source": [
        "print('Sample size before preprocessing: %d' % len(df_train))"
      ],
      "execution_count": 107,
      "outputs": [
        {
          "output_type": "stream",
          "text": [
            "Sample size before preprocessing: 174752\n"
          ],
          "name": "stdout"
        }
      ]
    },
    {
      "metadata": {
        "id": "yPeGQN9y56mO",
        "colab_type": "code",
        "colab": {}
      },
      "cell_type": "code",
      "source": [
        "# drop-out negative fare\n",
        "df_train = df_train[df_train.fare_amount>=0]\n",
        "\n",
        "# drop-out non full line\n",
        "df_train = df_train.dropna(how = 'any', axis = 'rows')"
      ],
      "execution_count": 0,
      "outputs": []
    },
    {
      "metadata": {
        "id": "NPBJluS78LmM",
        "colab_type": "code",
        "colab": {}
      },
      "cell_type": "code",
      "source": [
        "# minimum and maximum longitude test set\n",
        "min(df_train.pickup_longitude.min(), df_train.dropoff_longitude.min()), \\\n",
        "max(df_train.pickup_longitude.max(), df_train.dropoff_longitude.max())\n",
        "\n",
        "# minimum and maximum latitude test set\n",
        "min(df_train.pickup_latitude.min(), df_train.dropoff_latitude.min()), \\\n",
        "max(df_train.pickup_latitude.max(), df_train.dropoff_latitude.max())\n",
        "\n",
        "def select_within_boundingbox(df, BB):\n",
        "    return (df.pickup_longitude >= BB[0]) & (df.pickup_longitude <= BB[1]) & \\\n",
        "           (df.pickup_latitude >= BB[2]) & (df.pickup_latitude <= BB[3]) & \\\n",
        "           (df.dropoff_longitude >= BB[0]) & (df.dropoff_longitude <= BB[1]) & \\\n",
        "           (df.dropoff_latitude >= BB[2]) & (df.dropoff_latitude <= BB[3])\n",
        "  \n",
        "# load image of NYC map\n",
        "BB = (-74.5, -72.8, 40.5, 41.8)\n",
        "nyc_map = plt.imread('https://aiblog.nl/download/nyc_-74.5_-72.8_40.5_41.8.png')\n",
        "\n",
        "# load extra image to zoom in on NYC\n",
        "BB_zoom = (-74.3, -73.7, 40.5, 40.9)\n",
        "nyc_map_zoom = plt.imread('https://aiblog.nl/download/nyc_-74.3_-73.7_40.5_40.9.png')\n",
        "\n",
        "df_train = df_train[select_within_boundingbox(df_train, BB)]"
      ],
      "execution_count": 0,
      "outputs": []
    },
    {
      "metadata": {
        "id": "Ji3oJXiL9T9i",
        "colab_type": "code",
        "outputId": "04e6cbbb-1c67-4bb3-fe12-77ad9d42c99f",
        "colab": {
          "base_uri": "https://localhost:8080/",
          "height": 34
        }
      },
      "cell_type": "code",
      "source": [
        "# Eead nyc mask and turn into boolean map with\n",
        "# land = True, water = False\n",
        "nyc_mask = plt.imread('https://aiblog.nl/download/nyc_mask-74.5_-72.8_40.5_41.8.png')[:,:,0] > 0.9\n",
        "\n",
        "# Translate longitude/latitude coordinate into image xy coordinate\n",
        "def lonlat_to_xy(longitude, latitude, dx, dy, BB):\n",
        "    return (dx*(longitude - BB[0])/(BB[1]-BB[0])).astype('int'), \\\n",
        "           (dy - dy*(latitude - BB[2])/(BB[3]-BB[2])).astype('int')\n",
        "  \n",
        "pickup_x, pickup_y = lonlat_to_xy(df_train.pickup_longitude, df_train.pickup_latitude, \n",
        "                                  nyc_mask.shape[1], nyc_mask.shape[0], BB)\n",
        "dropoff_x, dropoff_y = lonlat_to_xy(df_train.dropoff_longitude, df_train.dropoff_latitude, \n",
        "                                  nyc_mask.shape[1], nyc_mask.shape[0], BB)\n",
        "\n",
        "\n",
        "idx = (nyc_mask[pickup_y, pickup_x] & nyc_mask[dropoff_y, dropoff_x])\n",
        "print(\"Number of trips in water: {}\".format(np.sum(~idx)))\n",
        "\n",
        "\n",
        "def remove_datapoints_from_water(df):\n",
        "    def lonlat_to_xy(longitude, latitude, dx, dy, BB):\n",
        "        return (dx*(longitude - BB[0])/(BB[1]-BB[0])).astype('int'), \\\n",
        "               (dy - dy*(latitude - BB[2])/(BB[3]-BB[2])).astype('int')\n",
        "      \n",
        "    # define bounding box\n",
        "    BB = (-74.5, -72.8, 40.5, 41.8)\n",
        "    \n",
        "    # read nyc mask and turn into boolean map with\n",
        "    # land = True, water = False\n",
        "    nyc_mask = plt.imread('https://aiblog.nl/download/nyc_mask-74.5_-72.8_40.5_41.8.png')[:,:,0] > 0.9\n",
        "    \n",
        "    # calculate for each lon,lat coordinate the xy coordinate in the mask map\n",
        "    pickup_x, pickup_y = lonlat_to_xy(df.pickup_longitude, df.pickup_latitude, \n",
        "                                      nyc_mask.shape[1], nyc_mask.shape[0], BB)\n",
        "    dropoff_x, dropoff_y = lonlat_to_xy(df.dropoff_longitude, df.dropoff_latitude, \n",
        "                                      nyc_mask.shape[1], nyc_mask.shape[0], BB)    \n",
        "    # calculate boolean index\n",
        "    idx = nyc_mask[pickup_y, pickup_x] & nyc_mask[dropoff_y, dropoff_x]\n",
        "    \n",
        "    # return only datapoints on land\n",
        "    return df[idx]\n",
        "  \n",
        "  \n",
        "\n",
        "df_train = remove_datapoints_from_water(df_train)"
      ],
      "execution_count": 111,
      "outputs": [
        {
          "output_type": "stream",
          "text": [
            "Number of trips in water: 32\n"
          ],
          "name": "stdout"
        }
      ]
    },
    {
      "metadata": {
        "id": "5qKUs-vl62yG",
        "colab_type": "code",
        "outputId": "d6fcffbc-fdc2-4fc7-9053-416233fa03b4",
        "colab": {
          "base_uri": "https://localhost:8080/",
          "height": 34
        }
      },
      "cell_type": "code",
      "source": [
        "print('Sample size after preprocessing: %d' % len(df_train))"
      ],
      "execution_count": 112,
      "outputs": [
        {
          "output_type": "stream",
          "text": [
            "Sample size after preprocessing: 171088\n"
          ],
          "name": "stdout"
        }
      ]
    },
    {
      "metadata": {
        "id": "k0V72Woe-SGY",
        "colab_type": "text"
      },
      "cell_type": "markdown",
      "source": [
        "## Feature engineering"
      ]
    },
    {
      "metadata": {
        "id": "ix9FY5s7-Yqh",
        "colab_type": "text"
      },
      "cell_type": "markdown",
      "source": [
        "### Manhattan distance"
      ]
    },
    {
      "metadata": {
        "id": "1kWjPZ43-eIA",
        "colab_type": "code",
        "outputId": "0e19b335-a07f-47db-9bd0-e043edb8067e",
        "colab": {
          "base_uri": "https://localhost:8080/",
          "height": 326
        }
      },
      "cell_type": "code",
      "source": [
        "# Given a dataframe, add two new features 'abs_diff_longitude' and 'abs_diff_latitude' reprensenting the vector from\n",
        "# the pickup location to the dropoff location\n",
        "\n",
        "def add_travel_vector_features(df):\n",
        "    df['abs_diff_longitude'] = (df.dropoff_longitude - df.pickup_longitude).abs()\n",
        "    df['abs_diff_latitude'] = (df.dropoff_latitude - df.pickup_latitude).abs()\n",
        "\n",
        "add_travel_vector_features(df_train)\n",
        "\n",
        "\n",
        "def convert_kilometers(train_df):\n",
        "    train_df['abs_diff_longitude'] = train_df.abs_diff_longitude * 79.1\n",
        "    train_df['abs_diff_latitude'] = train_df.abs_diff_latitude * 111\n",
        "    \n",
        "convert_kilometers(df_train)\n",
        "\n",
        "\n",
        "### Angle difference between north, and manhattan roadways\n",
        "meas_ang = 0.506 # 29 degrees = 0.506 radians\n",
        "import math\n",
        "\n",
        "## adding extra features\n",
        "def add_extra_manh_features(df):\n",
        "    df['euclidean_distance'] = (df.abs_diff_latitude**2 + df.abs_diff_longitude**2)**0.5  \n",
        "    df['delta_manh_long'] = (df.euclidean_distance*np.sin(np.arctan(df.abs_diff_longitude / df.abs_diff_latitude)-meas_ang)).abs()\n",
        "    df['delta_manh_lat'] = (df.euclidean_distance*np.cos(np.arctan(df.abs_diff_longitude / df.abs_diff_latitude)-meas_ang)).abs()\n",
        "    df['manh_distance'] = df.delta_manh_long + df.delta_manh_lat\n",
        "    df['euclidean_error'] = (df.manh_distance - df.euclidean_distance)*100 /  df.euclidean_distance\n",
        "\n",
        "    \n",
        "add_extra_manh_features(df_train)\n",
        "\n",
        "tmp = len(df_train)\n",
        "df_train = df_train.dropna(how = 'any', axis = 'rows')\n",
        "print('Raws where distante = NaN: %d' % (tmp-len(df_train)))\n",
        "\n",
        "df_train.head()"
      ],
      "execution_count": 119,
      "outputs": [
        {
          "output_type": "stream",
          "text": [
            "Raws where distante = NaN: 0\n"
          ],
          "name": "stdout"
        },
        {
          "output_type": "execute_result",
          "data": {
            "text/html": [
              "<div>\n",
              "<style scoped>\n",
              "    .dataframe tbody tr th:only-of-type {\n",
              "        vertical-align: middle;\n",
              "    }\n",
              "\n",
              "    .dataframe tbody tr th {\n",
              "        vertical-align: top;\n",
              "    }\n",
              "\n",
              "    .dataframe thead th {\n",
              "        text-align: right;\n",
              "    }\n",
              "</style>\n",
              "<table border=\"1\" class=\"dataframe\">\n",
              "  <thead>\n",
              "    <tr style=\"text-align: right;\">\n",
              "      <th></th>\n",
              "      <th>key</th>\n",
              "      <th>fare_amount</th>\n",
              "      <th>pickup_datetime</th>\n",
              "      <th>pickup_longitude</th>\n",
              "      <th>pickup_latitude</th>\n",
              "      <th>dropoff_longitude</th>\n",
              "      <th>dropoff_latitude</th>\n",
              "      <th>passenger_count</th>\n",
              "      <th>abs_diff_longitude</th>\n",
              "      <th>abs_diff_latitude</th>\n",
              "      <th>euclidean_distance</th>\n",
              "      <th>delta_manh_long</th>\n",
              "      <th>delta_manh_lat</th>\n",
              "      <th>manh_distance</th>\n",
              "      <th>euclidean_error</th>\n",
              "    </tr>\n",
              "  </thead>\n",
              "  <tbody>\n",
              "    <tr>\n",
              "      <th>0</th>\n",
              "      <td>2012-01-18 10:15:28.0000001</td>\n",
              "      <td>5.3</td>\n",
              "      <td>2012-01-18 10:15:28</td>\n",
              "      <td>-73.999906</td>\n",
              "      <td>40.727304</td>\n",
              "      <td>-74.001324</td>\n",
              "      <td>40.736911</td>\n",
              "      <td>1</td>\n",
              "      <td>0.112164</td>\n",
              "      <td>1.066377</td>\n",
              "      <td>1.072260</td>\n",
              "      <td>0.418746</td>\n",
              "      <td>0.987113</td>\n",
              "      <td>1.405859</td>\n",
              "      <td>31.111806</td>\n",
              "    </tr>\n",
              "    <tr>\n",
              "      <th>1</th>\n",
              "      <td>2012-09-06 14:48:00.00000030</td>\n",
              "      <td>21.5</td>\n",
              "      <td>2012-09-06 14:48:00</td>\n",
              "      <td>-73.974438</td>\n",
              "      <td>40.754583</td>\n",
              "      <td>-73.979488</td>\n",
              "      <td>40.764328</td>\n",
              "      <td>5</td>\n",
              "      <td>0.399455</td>\n",
              "      <td>1.081695</td>\n",
              "      <td>1.153095</td>\n",
              "      <td>0.174879</td>\n",
              "      <td>1.139757</td>\n",
              "      <td>1.314636</td>\n",
              "      <td>14.009324</td>\n",
              "    </tr>\n",
              "    <tr>\n",
              "      <th>4</th>\n",
              "      <td>2012-10-30 12:33:41.0000001</td>\n",
              "      <td>4.0</td>\n",
              "      <td>2012-10-30 12:33:41</td>\n",
              "      <td>-73.989309</td>\n",
              "      <td>40.763072</td>\n",
              "      <td>-73.988742</td>\n",
              "      <td>40.758697</td>\n",
              "      <td>1</td>\n",
              "      <td>0.044850</td>\n",
              "      <td>0.485625</td>\n",
              "      <td>0.487692</td>\n",
              "      <td>0.196144</td>\n",
              "      <td>0.446509</td>\n",
              "      <td>0.642654</td>\n",
              "      <td>31.774575</td>\n",
              "    </tr>\n",
              "    <tr>\n",
              "      <th>5</th>\n",
              "      <td>2014-07-21 22:15:00.000000159</td>\n",
              "      <td>30.0</td>\n",
              "      <td>2014-07-21 22:15:00</td>\n",
              "      <td>-73.875200</td>\n",
              "      <td>40.773922</td>\n",
              "      <td>-73.971135</td>\n",
              "      <td>40.753697</td>\n",
              "      <td>1</td>\n",
              "      <td>7.588458</td>\n",
              "      <td>2.244975</td>\n",
              "      <td>7.913572</td>\n",
              "      <td>5.549451</td>\n",
              "      <td>5.641650</td>\n",
              "      <td>11.191100</td>\n",
              "      <td>41.416557</td>\n",
              "    </tr>\n",
              "    <tr>\n",
              "      <th>6</th>\n",
              "      <td>2011-02-25 23:35:00.000000154</td>\n",
              "      <td>13.3</td>\n",
              "      <td>2011-02-25 23:35:00</td>\n",
              "      <td>-74.008035</td>\n",
              "      <td>40.705807</td>\n",
              "      <td>-73.987173</td>\n",
              "      <td>40.729433</td>\n",
              "      <td>5</td>\n",
              "      <td>1.650184</td>\n",
              "      <td>2.622486</td>\n",
              "      <td>3.098474</td>\n",
              "      <td>0.172327</td>\n",
              "      <td>3.093678</td>\n",
              "      <td>3.266005</td>\n",
              "      <td>5.406900</td>\n",
              "    </tr>\n",
              "  </tbody>\n",
              "</table>\n",
              "</div>"
            ],
            "text/plain": [
              "                             key  fare_amount     pickup_datetime  \\\n",
              "0    2012-01-18 10:15:28.0000001          5.3 2012-01-18 10:15:28   \n",
              "1   2012-09-06 14:48:00.00000030         21.5 2012-09-06 14:48:00   \n",
              "4    2012-10-30 12:33:41.0000001          4.0 2012-10-30 12:33:41   \n",
              "5  2014-07-21 22:15:00.000000159         30.0 2014-07-21 22:15:00   \n",
              "6  2011-02-25 23:35:00.000000154         13.3 2011-02-25 23:35:00   \n",
              "\n",
              "   pickup_longitude  pickup_latitude  dropoff_longitude  dropoff_latitude  \\\n",
              "0        -73.999906        40.727304         -74.001324         40.736911   \n",
              "1        -73.974438        40.754583         -73.979488         40.764328   \n",
              "4        -73.989309        40.763072         -73.988742         40.758697   \n",
              "5        -73.875200        40.773922         -73.971135         40.753697   \n",
              "6        -74.008035        40.705807         -73.987173         40.729433   \n",
              "\n",
              "   passenger_count  abs_diff_longitude  abs_diff_latitude  euclidean_distance  \\\n",
              "0                1            0.112164           1.066377            1.072260   \n",
              "1                5            0.399455           1.081695            1.153095   \n",
              "4                1            0.044850           0.485625            0.487692   \n",
              "5                1            7.588458           2.244975            7.913572   \n",
              "6                5            1.650184           2.622486            3.098474   \n",
              "\n",
              "   delta_manh_long  delta_manh_lat  manh_distance  euclidean_error  \n",
              "0         0.418746        0.987113       1.405859        31.111806  \n",
              "1         0.174879        1.139757       1.314636        14.009324  \n",
              "4         0.196144        0.446509       0.642654        31.774575  \n",
              "5         5.549451        5.641650      11.191100        41.416557  \n",
              "6         0.172327        3.093678       3.266005         5.406900  "
            ]
          },
          "metadata": {
            "tags": []
          },
          "execution_count": 119
        }
      ]
    },
    {
      "metadata": {
        "id": "LZU-hpuIB6KU",
        "colab_type": "text"
      },
      "cell_type": "markdown",
      "source": [
        "## Build the network"
      ]
    },
    {
      "metadata": {
        "id": "ZC0QnpIWE--j",
        "colab_type": "code",
        "colab": {
          "base_uri": "https://localhost:8080/",
          "height": 238
        },
        "outputId": "bdd02d42-a9dd-4466-c631-b620dc5d9a55"
      },
      "cell_type": "code",
      "source": [
        "def getYear(x):\n",
        "    return x.year%2000\n",
        "  \n",
        "def getMonth(x):\n",
        "  return x.month\n",
        "\n",
        "def getHour(x):\n",
        "  return x.hour  \n",
        "\n",
        "def getHourCos(x):\n",
        "  return math.cos(2* math.pi * x.hour/24)  \n",
        "\n",
        "def getHourSin(x):\n",
        "  return math.sin(2* math.pi * x.hour/24)  \n",
        "\n",
        "def getDayOfWeek(x,day):\n",
        "  #tmp = tf.keras.backend.one_hot(x.dayofweek, 7)\n",
        "  if x.dayofweek == day:\n",
        "    return 1\n",
        "  else :\n",
        "    return 0\n",
        "\n",
        "train_x = pd.DataFrame()\n",
        "train_x['pickup_longitude'] = df_train.pickup_longitude\n",
        "train_x['pickup_latitude'] = df_train.pickup_latitude\n",
        "train_x['dropoff_longitude'] = df_train.dropoff_longitude\n",
        "train_x['dropoff_latitude'] = df_train.dropoff_latitude\n",
        "train_x['passenger_count'] = df_train.passenger_count\n",
        "train_x['manh_distance'] = df_train.manh_distance\n",
        "train_x['pickup_year'] = df_train.pickup_datetime.apply(getYear)\n",
        "train_x['pickup_month'] = df_train.pickup_datetime.apply(getMonth)\n",
        "#train_x['pickup_hour'] = df_train.pickup_datetime.apply(getHour)\n",
        "\n",
        "#train_x['pickup_hour_cos'] = df_train.pickup_datetime.apply(getHourCos)\n",
        "#train_x['pickup_hour_sin'] = df_train.pickup_datetime.apply(getHourSin)\n",
        "\n",
        "\"\"\"train_x['pickup_day_of_week_mon'] = df_train.pickup_datetime.apply(lambda x: getDayOfWeek(x,0))\n",
        "train_x['pickup_day_of_week_tue'] = df_train.pickup_datetime.apply(lambda x: getDayOfWeek(x,1))\n",
        "train_x['pickup_day_of_week_wed'] = df_train.pickup_datetime.apply(lambda x: getDayOfWeek(x,2))\n",
        "train_x['pickup_day_of_week_thu'] = df_train.pickup_datetime.apply(lambda x: getDayOfWeek(x,3))\n",
        "train_x['pickup_day_of_week_fri'] = df_train.pickup_datetime.apply(lambda x: getDayOfWeek(x,4))\n",
        "train_x['pickup_day_of_week_sat'] = df_train.pickup_datetime.apply(lambda x: getDayOfWeek(x,5))\n",
        "train_x['pickup_day_of_week_sun'] = df_train.pickup_datetime.apply(lambda x: getDayOfWeek(x,6))\"\"\"\n",
        "\n",
        "\n",
        "train_y = df_train.fare_amount\n",
        "\n",
        "train_size = 0.999 #0.00009 #0.99996\n",
        "train_cnt = floor(train_x.shape[0] * train_size)\n",
        "x_train = train_x.iloc[0:train_cnt].values\n",
        "y_train = train_y.iloc[0:train_cnt].values\n",
        "print (x_train)\n",
        "x_test = train_x.iloc[train_cnt:].values\n",
        "y_test = train_y.iloc[train_cnt:].values"
      ],
      "execution_count": 114,
      "outputs": [
        {
          "output_type": "stream",
          "text": [
            "[[-73.999906    40.727304   -74.001324   ...   1.40585891  12.\n",
            "    1.        ]\n",
            " [-73.974438    40.754583   -73.979488   ...   1.31463596  12.\n",
            "    9.        ]\n",
            " [-73.989309    40.763072   -73.988742   ...   0.64265358  12.\n",
            "   10.        ]\n",
            " ...\n",
            " [-73.980763    40.753068   -73.96202    ...   2.52987882  10.\n",
            "   11.        ]\n",
            " [-73.99845886  40.74055099 -74.00517273 ...   1.09018349  15.\n",
            "    6.        ]\n",
            " [-74.001535    40.741085   -73.984148   ...   1.93787404  13.\n",
            "    2.        ]]\n"
          ],
          "name": "stdout"
        }
      ]
    },
    {
      "metadata": {
        "id": "IHEEXEFRqzQi",
        "colab_type": "code",
        "outputId": "4a87e7bf-f471-4372-cd7f-470e1088a973",
        "colab": {
          "base_uri": "https://localhost:8080/",
          "height": 238
        }
      },
      "cell_type": "code",
      "source": [
        "inputs = tf.keras.Input(shape=(8,), name='input_layer')\n",
        "\n",
        "x = tf.keras.layers.Dense(512, activation='relu')(inputs)\n",
        "#x = tf.keras.layers.Dense(512, activation='relu')(x)\n",
        "x = tf.keras.layers.Dense(512, activation='relu')(x)\n",
        "#x = tf.keras.layers.Dense(128, activation='relu')(x)\n",
        "predictions = tf.keras.layers.Dense(1, activation='relu')(x)\n",
        "\n",
        "model = tf.keras.Model(inputs=inputs, outputs=predictions)\n",
        "model.compile(optimizer='rmsprop',\n",
        "              loss='mse',\n",
        "              metrics=['accuracy'])\n",
        "print_weights = LambdaCallback(on_epoch_end=lambda batch, logs: print(model.layers[5].get_weights()))\n",
        "#model.fit(x_train, y_train, batch_size=32, epochs=20,callbacks = [print_weights])\n",
        "model.fit(x_train, y_train, batch_size=32, epochs=6)"
      ],
      "execution_count": 98,
      "outputs": [
        {
          "output_type": "stream",
          "text": [
            "Epoch 1/6\n",
            "169075/169075 [==============================] - 22s 132us/step - loss: 25.4473 - acc: 0.0000e+00\n",
            "Epoch 2/6\n",
            "169075/169075 [==============================] - 21s 126us/step - loss: 20.1665 - acc: 0.0000e+00\n",
            "Epoch 3/6\n",
            "169075/169075 [==============================] - 21s 126us/step - loss: 19.7616 - acc: 0.0000e+00\n",
            "Epoch 4/6\n",
            "169075/169075 [==============================] - 21s 126us/step - loss: 19.5945 - acc: 0.0000e+00\n",
            "Epoch 5/6\n",
            "169075/169075 [==============================] - 21s 126us/step - loss: 19.4089 - acc: 0.0000e+00\n",
            "Epoch 6/6\n",
            "169075/169075 [==============================] - 21s 125us/step - loss: 19.3525 - acc: 0.0000e+00\n"
          ],
          "name": "stdout"
        },
        {
          "output_type": "execute_result",
          "data": {
            "text/plain": [
              "<tensorflow.python.keras.callbacks.History at 0x7fdd73393be0>"
            ]
          },
          "metadata": {
            "tags": []
          },
          "execution_count": 98
        }
      ]
    },
    {
      "metadata": {
        "id": "t8UWHbn3EHXg",
        "colab_type": "text"
      },
      "cell_type": "markdown",
      "source": [
        "## Local evaluation"
      ]
    },
    {
      "metadata": {
        "id": "xKpopSBJTMML",
        "colab_type": "code",
        "outputId": "66f73057-87e6-49cc-8ff7-ce6cb6b06122",
        "colab": {
          "base_uri": "https://localhost:8080/",
          "height": 51
        }
      },
      "cell_type": "code",
      "source": [
        "model.evaluate(x_train, y_train)\n"
      ],
      "execution_count": 115,
      "outputs": [
        {
          "output_type": "stream",
          "text": [
            "169075/169075 [==============================] - 10s 57us/step\n"
          ],
          "name": "stdout"
        },
        {
          "output_type": "execute_result",
          "data": {
            "text/plain": [
              "[18.80202504744918, 0.0]"
            ]
          },
          "metadata": {
            "tags": []
          },
          "execution_count": 115
        }
      ]
    },
    {
      "metadata": {
        "id": "KENkECg5Zvjt",
        "colab_type": "code",
        "outputId": "b85a85af-74fa-4021-face-c661ab90a066",
        "colab": {
          "base_uri": "https://localhost:8080/",
          "height": 3077
        }
      },
      "cell_type": "code",
      "source": [
        "\n",
        "print (y_test[0:100])\n",
        "\n",
        "predictionTmp = model.predict(x_test)\n",
        "\n",
        "print (predictionTmp)\n",
        "\n",
        "erreurTotale = 0\n",
        "for i in range(100):\n",
        "  erreurTotale += math.pow((y_test[i] - predictionTmp[i][0]),2)\n",
        "  \n",
        "print('Erreur moyenne : ' + str(math.sqrt(erreurTotale/100)))\n",
        "    "
      ],
      "execution_count": 116,
      "outputs": [
        {
          "output_type": "stream",
          "text": [
            "[36.83  5.    9.3  39.    8.1   6.9   4.5   5.7  16.    8.    8.   10.5\n",
            "  8.1   5.7   7.3   4.9   8.1  10.5   8.    5.3   5.3   4.1   3.5   6.5\n",
            "  8.5   4.9   4.9   4.5   7.   17.3   4.5   5.3   6.5  10.1   7.5  14.1\n",
            " 25.5  12.   12.5   7.3  11.5   8.9   6.5   6.9  12.5   8.    7.7   8.1\n",
            "  6.5   8.5   9.   13.3   5.3   7.7  57.33  7.5  10.9  13.    6.5   5.5\n",
            " 15.   12.5  10.9   4.5   7.    5.3   6.9   7.3   4.5   9.5   6.    8.1\n",
            " 10.   21.   12.   11.7  11.   10.5   7.    8.5  10.5   4.9   4.5   7.5\n",
            " 18.5   7.    8.5  14.9   6.5  18.    3.7  14.5   5.7   4.1   4.9   7.3\n",
            "  4.9   8.5  17.4   5.7 ]\n",
            "[[31.104424 ]\n",
            " [ 7.3753877]\n",
            " [11.450322 ]\n",
            " [36.387566 ]\n",
            " [ 8.374105 ]\n",
            " [ 8.235859 ]\n",
            " [ 5.799046 ]\n",
            " [ 6.8173637]\n",
            " [14.791421 ]\n",
            " [ 6.694931 ]\n",
            " [ 8.114597 ]\n",
            " [13.444854 ]\n",
            " [11.211635 ]\n",
            " [ 5.752664 ]\n",
            " [ 9.239293 ]\n",
            " [ 5.5992084]\n",
            " [ 6.682624 ]\n",
            " [11.071662 ]\n",
            " [ 7.7659774]\n",
            " [ 4.5735855]\n",
            " [ 6.3736076]\n",
            " [ 5.592484 ]\n",
            " [ 5.859862 ]\n",
            " [17.052721 ]\n",
            " [10.275203 ]\n",
            " [ 5.5675735]\n",
            " [ 5.045608 ]\n",
            " [ 5.5642757]\n",
            " [ 7.4168644]\n",
            " [23.306263 ]\n",
            " [ 6.0211163]\n",
            " [ 5.4116464]\n",
            " [ 7.121304 ]\n",
            " [11.2662115]\n",
            " [ 7.750102 ]\n",
            " [13.718099 ]\n",
            " [ 9.807371 ]\n",
            " [13.971208 ]\n",
            " [12.160144 ]\n",
            " [ 9.875687 ]\n",
            " [11.532333 ]\n",
            " [ 7.684411 ]\n",
            " [ 7.7974467]\n",
            " [ 9.096419 ]\n",
            " [10.650055 ]\n",
            " [ 9.081636 ]\n",
            " [ 9.192758 ]\n",
            " [ 8.3133   ]\n",
            " [ 8.652649 ]\n",
            " [ 7.1604505]\n",
            " [ 9.626702 ]\n",
            " [14.113938 ]\n",
            " [ 6.2134547]\n",
            " [10.587707 ]\n",
            " [53.436195 ]\n",
            " [ 9.75582  ]\n",
            " [14.159586 ]\n",
            " [12.817111 ]\n",
            " [ 7.9091887]\n",
            " [ 7.2026176]\n",
            " [17.01147  ]\n",
            " [10.700744 ]\n",
            " [10.862823 ]\n",
            " [ 5.592197 ]\n",
            " [ 8.308419 ]\n",
            " [ 6.505837 ]\n",
            " [ 8.879964 ]\n",
            " [ 6.1925106]\n",
            " [ 5.3864946]\n",
            " [ 7.3674946]\n",
            " [ 6.5320563]\n",
            " [ 7.376622 ]\n",
            " [ 6.4224944]\n",
            " [28.920418 ]\n",
            " [16.437723 ]\n",
            " [ 6.8760996]\n",
            " [ 9.832133 ]\n",
            " [10.429096 ]\n",
            " [ 7.9094815]\n",
            " [ 7.802859 ]\n",
            " [13.457633 ]\n",
            " [ 5.602851 ]\n",
            " [ 5.6601286]\n",
            " [ 8.932943 ]\n",
            " [13.055762 ]\n",
            " [ 6.733975 ]\n",
            " [ 9.814817 ]\n",
            " [13.628706 ]\n",
            " [ 7.052246 ]\n",
            " [13.495915 ]\n",
            " [ 5.1165752]\n",
            " [13.273637 ]\n",
            " [ 7.181503 ]\n",
            " [ 5.1587596]\n",
            " [ 5.691575 ]\n",
            " [ 6.414671 ]\n",
            " [ 4.6272917]\n",
            " [10.634282 ]\n",
            " [12.872861 ]\n",
            " [ 7.197358 ]\n",
            " [47.887432 ]\n",
            " [11.168947 ]\n",
            " [ 4.620831 ]\n",
            " [ 5.454678 ]\n",
            " [33.2331   ]\n",
            " [ 7.9992833]\n",
            " [10.164929 ]\n",
            " [ 8.514693 ]\n",
            " [ 7.76865  ]\n",
            " [16.100456 ]\n",
            " [14.447976 ]\n",
            " [ 8.930433 ]\n",
            " [ 9.873672 ]\n",
            " [ 5.6435475]\n",
            " [ 7.456082 ]\n",
            " [ 9.089057 ]\n",
            " [ 6.543114 ]\n",
            " [14.712059 ]\n",
            " [ 5.230635 ]\n",
            " [ 5.6202316]\n",
            " [ 8.717567 ]\n",
            " [ 5.35145  ]\n",
            " [18.377731 ]\n",
            " [ 5.4140596]\n",
            " [10.026889 ]\n",
            " [ 5.6698937]\n",
            " [10.41318  ]\n",
            " [10.7375145]\n",
            " [ 4.8674974]\n",
            " [ 6.2033806]\n",
            " [ 8.055395 ]\n",
            " [ 8.264215 ]\n",
            " [ 4.9862585]\n",
            " [ 5.4425793]\n",
            " [ 5.72557  ]\n",
            " [14.102243 ]\n",
            " [24.54985  ]\n",
            " [14.31238  ]\n",
            " [10.129378 ]\n",
            " [ 6.936067 ]\n",
            " [12.045995 ]\n",
            " [ 5.599211 ]\n",
            " [17.001038 ]\n",
            " [15.015449 ]\n",
            " [31.464474 ]\n",
            " [ 5.520539 ]\n",
            " [ 6.716301 ]\n",
            " [ 7.119773 ]\n",
            " [11.951973 ]\n",
            " [12.681367 ]\n",
            " [ 5.9221487]\n",
            " [ 7.256682 ]\n",
            " [12.964464 ]\n",
            " [ 5.903407 ]\n",
            " [ 6.90442  ]\n",
            " [ 7.0045443]\n",
            " [ 5.087672 ]\n",
            " [ 7.606611 ]\n",
            " [ 5.388363 ]\n",
            " [ 9.258134 ]\n",
            " [ 8.014391 ]\n",
            " [ 6.1393633]\n",
            " [ 6.924403 ]\n",
            " [22.122694 ]\n",
            " [ 7.816013 ]\n",
            " [ 8.22841  ]\n",
            " [ 5.17665  ]\n",
            " [ 5.6383505]\n",
            " [ 9.273196 ]\n",
            " [ 8.365469 ]]\n",
            "Erreur moyenne : 2.862090460449459\n"
          ],
          "name": "stdout"
        }
      ]
    },
    {
      "metadata": {
        "id": "mA918DL_ESxK",
        "colab_type": "text"
      },
      "cell_type": "markdown",
      "source": [
        "## Kaggle evaluation"
      ]
    },
    {
      "metadata": {
        "id": "z3EsX3BVEdHb",
        "colab_type": "code",
        "colab": {
          "base_uri": "https://localhost:8080/",
          "height": 204
        },
        "outputId": "692f70ce-c26c-4ff7-cec0-9711dc89052c"
      },
      "cell_type": "code",
      "source": [
        "df_test = pd.read_csv('test.csv', nrows=9915, parse_dates=[\"pickup_datetime\"])\n",
        "df_test.head()"
      ],
      "execution_count": 125,
      "outputs": [
        {
          "output_type": "execute_result",
          "data": {
            "text/html": [
              "<div>\n",
              "<style scoped>\n",
              "    .dataframe tbody tr th:only-of-type {\n",
              "        vertical-align: middle;\n",
              "    }\n",
              "\n",
              "    .dataframe tbody tr th {\n",
              "        vertical-align: top;\n",
              "    }\n",
              "\n",
              "    .dataframe thead th {\n",
              "        text-align: right;\n",
              "    }\n",
              "</style>\n",
              "<table border=\"1\" class=\"dataframe\">\n",
              "  <thead>\n",
              "    <tr style=\"text-align: right;\">\n",
              "      <th></th>\n",
              "      <th>key</th>\n",
              "      <th>pickup_datetime</th>\n",
              "      <th>pickup_longitude</th>\n",
              "      <th>pickup_latitude</th>\n",
              "      <th>dropoff_longitude</th>\n",
              "      <th>dropoff_latitude</th>\n",
              "      <th>passenger_count</th>\n",
              "    </tr>\n",
              "  </thead>\n",
              "  <tbody>\n",
              "    <tr>\n",
              "      <th>0</th>\n",
              "      <td>2015-01-27 13:08:24.0000002</td>\n",
              "      <td>2015-01-27 13:08:24</td>\n",
              "      <td>-73.973320</td>\n",
              "      <td>40.763805</td>\n",
              "      <td>-73.981430</td>\n",
              "      <td>40.743835</td>\n",
              "      <td>1</td>\n",
              "    </tr>\n",
              "    <tr>\n",
              "      <th>1</th>\n",
              "      <td>2015-01-27 13:08:24.0000003</td>\n",
              "      <td>2015-01-27 13:08:24</td>\n",
              "      <td>-73.986862</td>\n",
              "      <td>40.719383</td>\n",
              "      <td>-73.998886</td>\n",
              "      <td>40.739201</td>\n",
              "      <td>1</td>\n",
              "    </tr>\n",
              "    <tr>\n",
              "      <th>2</th>\n",
              "      <td>2011-10-08 11:53:44.0000002</td>\n",
              "      <td>2011-10-08 11:53:44</td>\n",
              "      <td>-73.982524</td>\n",
              "      <td>40.751260</td>\n",
              "      <td>-73.979654</td>\n",
              "      <td>40.746139</td>\n",
              "      <td>1</td>\n",
              "    </tr>\n",
              "    <tr>\n",
              "      <th>3</th>\n",
              "      <td>2012-12-01 21:12:12.0000002</td>\n",
              "      <td>2012-12-01 21:12:12</td>\n",
              "      <td>-73.981160</td>\n",
              "      <td>40.767807</td>\n",
              "      <td>-73.990448</td>\n",
              "      <td>40.751635</td>\n",
              "      <td>1</td>\n",
              "    </tr>\n",
              "    <tr>\n",
              "      <th>4</th>\n",
              "      <td>2012-12-01 21:12:12.0000003</td>\n",
              "      <td>2012-12-01 21:12:12</td>\n",
              "      <td>-73.966046</td>\n",
              "      <td>40.789775</td>\n",
              "      <td>-73.988565</td>\n",
              "      <td>40.744427</td>\n",
              "      <td>1</td>\n",
              "    </tr>\n",
              "  </tbody>\n",
              "</table>\n",
              "</div>"
            ],
            "text/plain": [
              "                           key     pickup_datetime  pickup_longitude  \\\n",
              "0  2015-01-27 13:08:24.0000002 2015-01-27 13:08:24        -73.973320   \n",
              "1  2015-01-27 13:08:24.0000003 2015-01-27 13:08:24        -73.986862   \n",
              "2  2011-10-08 11:53:44.0000002 2011-10-08 11:53:44        -73.982524   \n",
              "3  2012-12-01 21:12:12.0000002 2012-12-01 21:12:12        -73.981160   \n",
              "4  2012-12-01 21:12:12.0000003 2012-12-01 21:12:12        -73.966046   \n",
              "\n",
              "   pickup_latitude  dropoff_longitude  dropoff_latitude  passenger_count  \n",
              "0        40.763805         -73.981430         40.743835                1  \n",
              "1        40.719383         -73.998886         40.739201                1  \n",
              "2        40.751260         -73.979654         40.746139                1  \n",
              "3        40.767807         -73.990448         40.751635                1  \n",
              "4        40.789775         -73.988565         40.744427                1  "
            ]
          },
          "metadata": {
            "tags": []
          },
          "execution_count": 125
        }
      ]
    },
    {
      "metadata": {
        "id": "WJ6Lk_FzGn4x",
        "colab_type": "text"
      },
      "cell_type": "markdown",
      "source": [
        "### Manhattan distance"
      ]
    },
    {
      "metadata": {
        "id": "MYK-lauoGrnZ",
        "colab_type": "code",
        "colab": {
          "base_uri": "https://localhost:8080/",
          "height": 34
        },
        "outputId": "30e395da-42ad-4a37-a059-8899ed2817ae"
      },
      "cell_type": "code",
      "source": [
        "# Given a dataframe, add two new features 'abs_diff_longitude' and 'abs_diff_latitude' reprensenting the vector from\n",
        "# the pickup location to the dropoff location\n",
        "\n",
        "def add_travel_vector_features(df):\n",
        "    df['abs_diff_longitude'] = (df.dropoff_longitude - df.pickup_longitude).abs()\n",
        "    df['abs_diff_latitude'] = (df.dropoff_latitude - df.pickup_latitude).abs()\n",
        "\n",
        "add_travel_vector_features(df_test)\n",
        "\n",
        "\n",
        "def convert_kilometers(train_df):\n",
        "    train_df['abs_diff_longitude'] = train_df.abs_diff_longitude * 79.1\n",
        "    train_df['abs_diff_latitude'] = train_df.abs_diff_latitude * 111\n",
        "    \n",
        "convert_kilometers(df_test)\n",
        "\n",
        "\n",
        "### Angle difference between north, and manhattan roadways\n",
        "meas_ang = 0.506 # 29 degrees = 0.506 radians\n",
        "import math\n",
        "\n",
        "## adding extra features\n",
        "def add_extra_manh_features(df):\n",
        "    df['euclidean_distance'] = (df.abs_diff_latitude**2 + df.abs_diff_longitude**2)**0.5  \n",
        "    df['delta_manh_long'] = (df.euclidean_distance*np.sin(np.arctan(df.abs_diff_longitude / df.abs_diff_latitude)-meas_ang)).abs()\n",
        "    df['delta_manh_lat'] = (df.euclidean_distance*np.cos(np.arctan(df.abs_diff_longitude / df.abs_diff_latitude)-meas_ang)).abs()\n",
        "    df['manh_distance'] = df.delta_manh_long + df.delta_manh_lat\n",
        "    df['euclidean_error'] = (df.manh_distance - df.euclidean_distance)*100 /  df.euclidean_distance\n",
        "\n",
        "    \n",
        "add_extra_manh_features(df_test)\n",
        "\n",
        "tmp = len(df_test)\n",
        "#df_test = df_test.dropna(how = 'any', axis = 'rows')\n",
        "print('Raws where distante = NaN: %d' % (tmp-len(df_test)))\n"
      ],
      "execution_count": 130,
      "outputs": [
        {
          "output_type": "stream",
          "text": [
            "Raws where distante = NaN: 0\n"
          ],
          "name": "stdout"
        }
      ]
    },
    {
      "metadata": {
        "id": "QDjqmP55JTS9",
        "colab_type": "text"
      },
      "cell_type": "markdown",
      "source": [
        "### Create input"
      ]
    },
    {
      "metadata": {
        "id": "ZP3YhDX4HFli",
        "colab_type": "code",
        "colab": {}
      },
      "cell_type": "code",
      "source": [
        "def getYear(x):\n",
        "    return x.year%2000\n",
        "  \n",
        "def getMonth(x):\n",
        "  return x.month\n",
        "\n",
        "def getHour(x):\n",
        "  return x.hour  \n",
        "\n",
        "def getHourCos(x):\n",
        "  return math.cos(2* math.pi * x.hour/24)  \n",
        "\n",
        "def getHourSin(x):\n",
        "  return math.sin(2* math.pi * x.hour/24)  \n",
        "\n",
        "def getDayOfWeek(x,day):\n",
        "  #tmp = tf.keras.backend.one_hot(x.dayofweek, 7)\n",
        "  if x.dayofweek == day:\n",
        "    return 1\n",
        "  else :\n",
        "    return 0\n",
        "\n",
        "test_x = pd.DataFrame()\n",
        "test_x['pickup_longitude'] = df_test.pickup_longitude\n",
        "test_x['pickup_latitude'] = df_test.pickup_latitude\n",
        "test_x['dropoff_longitude'] = df_test.dropoff_longitude\n",
        "test_x['dropoff_latitude'] = df_test.dropoff_latitude\n",
        "test_x['passenger_count'] = df_test.passenger_count\n",
        "test_x['manh_distance'] = df_test.manh_distance\n",
        "test_x['pickup_year'] = df_test.pickup_datetime.apply(getYear)\n",
        "test_x['pickup_month'] = df_test.pickup_datetime.apply(getMonth)"
      ],
      "execution_count": 0,
      "outputs": []
    },
    {
      "metadata": {
        "id": "1kVSX5tQJVx1",
        "colab_type": "text"
      },
      "cell_type": "markdown",
      "source": [
        "### Compute output"
      ]
    },
    {
      "metadata": {
        "id": "wO0_GguP3qjl",
        "colab_type": "code",
        "colab": {
          "base_uri": "https://localhost:8080/",
          "height": 51
        },
        "outputId": "c901c7cf-172e-4d45-9810-3e5b261dd427"
      },
      "cell_type": "code",
      "source": [
        "import csv\n",
        "\n",
        "print(test_x.shape)\n",
        "predictionTmp = model.predict(test_x)\n",
        "print(predictionTmp.shape)\n",
        "prediction = []\n",
        "for i in range(predictionTmp.size):\n",
        "  prediction.append(predictionTmp[i][0])\n",
        "\n",
        "with open('4evaluation.csv', 'w') as f:\n",
        "    writer = csv.writer(f)\n",
        "\n",
        "    writer.writerows(zip(['key'],['fare_amount']))\n",
        "    #f.write('key,fare_amount')\n",
        "    writer.writerows(zip(df_test.key, prediction))"
      ],
      "execution_count": 146,
      "outputs": [
        {
          "output_type": "stream",
          "text": [
            "(9914, 8)\n",
            "(9914, 1)\n"
          ],
          "name": "stdout"
        }
      ]
    }
  ]
}