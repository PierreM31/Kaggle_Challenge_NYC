{
  "nbformat": 4,
  "nbformat_minor": 0,
  "metadata": {
    "colab": {
      "name": "model_test.ipynb",
      "version": "0.3.2",
      "provenance": [],
      "toc_visible": true,
      "include_colab_link": true
    },
    "kernelspec": {
      "name": "python3",
      "display_name": "Python 3"
    },
    "accelerator": "GPU"
  },
  "cells": [
    {
      "cell_type": "markdown",
      "metadata": {
        "id": "view-in-github",
        "colab_type": "text"
      },
      "source": [
        "<a href=\"https://colab.research.google.com/github/PierreM31/Kaggle_Challenge_NYC/blob/master/model_test.ipynb\" target=\"_parent\"><img src=\"https://colab.research.google.com/assets/colab-badge.svg\" alt=\"Open In Colab\"/></a>"
      ]
    },
    {
      "metadata": {
        "id": "grsGjIqV6XOO",
        "colab_type": "text"
      },
      "cell_type": "markdown",
      "source": [
        "## Import lib"
      ]
    },
    {
      "metadata": {
        "id": "53SX9snJ6cD2",
        "colab_type": "text"
      },
      "cell_type": "markdown",
      "source": [
        "### Import TensorFlow GPU"
      ]
    },
    {
      "metadata": {
        "id": "uwTGc5-ifiqy",
        "colab_type": "code",
        "outputId": "74eb6b2d-a411-4cc1-bbbf-54a2f79daaa0",
        "colab": {
          "base_uri": "https://localhost:8080/",
          "height": 34
        }
      },
      "cell_type": "code",
      "source": [
        "import tensorflow as tf\n",
        "device_name = tf.test.gpu_device_name()\n",
        "if device_name != '/device:GPU:0':\n",
        "  raise SystemError('GPU device not found')\n",
        "print('Found GPU at: {}'.format(device_name))"
      ],
      "execution_count": 2,
      "outputs": [
        {
          "output_type": "stream",
          "text": [
            "Found GPU at: /device:GPU:0\n"
          ],
          "name": "stdout"
        }
      ]
    },
    {
      "metadata": {
        "id": "c9Nc_YgZ6xb_",
        "colab_type": "text"
      },
      "cell_type": "markdown",
      "source": [
        "### Other import\n"
      ]
    },
    {
      "metadata": {
        "id": "iE8DLzxofqkk",
        "colab_type": "code",
        "colab": {}
      },
      "cell_type": "code",
      "source": [
        "import numpy as np\n",
        "import pandas as pd\n",
        "import matplotlib.pyplot as plt\n",
        "from math import floor, ceil\n",
        "import seaborn as sns\n",
        "import random\n",
        "from keras.callbacks import LambdaCallback\n",
        "% matplotlib inline\n",
        "plt.style.use('seaborn-whitegrid')"
      ],
      "execution_count": 0,
      "outputs": []
    },
    {
      "metadata": {
        "id": "tWIUtofAfee6",
        "colab_type": "text"
      },
      "cell_type": "markdown",
      "source": [
        ""
      ]
    },
    {
      "metadata": {
        "id": "_NMc3A5dr2DG",
        "colab_type": "text"
      },
      "cell_type": "markdown",
      "source": [
        "## Import data from BigQuerry "
      ]
    },
    {
      "metadata": {
        "id": "5GNLipqJk7k5",
        "colab_type": "code",
        "outputId": "ab460b5a-5b75-4347-89f5-36e1245e92ac",
        "colab": {
          "base_uri": "https://localhost:8080/",
          "height": 68
        }
      },
      "cell_type": "code",
      "source": [
        "from google.colab import auth\n",
        "auth.authenticate_user()\n",
        "print('Authenticated')\n",
        "\n",
        "project_id = 'scientific-pad-228220'\n",
        "\n",
        "from google.cloud import bigquery\n",
        "\n",
        "client = bigquery.Client(project=project_id)\n",
        "\n",
        "\n",
        "\n",
        "row_count = client.query('''SELECT COUNT(*) as total  FROM `scientific-pad-228220.kaggle.train_cos_sin_manhattan_1M`''').to_dataframe().total[0]\n",
        "\n",
        "print (row_count)\n",
        "df = client.query('''SELECT * FROM `scientific-pad-228220.kaggle.train_cos_sin_manhattan_1M` ''').to_dataframe()\n",
        "\n",
        "print('Full dataset has %d rows' % row_count)\n",
        "\n"
      ],
      "execution_count": 1,
      "outputs": [
        {
          "output_type": "stream",
          "text": [
            "Authenticated\n",
            "1000000\n",
            "Full dataset has 1000000 rows\n"
          ],
          "name": "stdout"
        }
      ]
    },
    {
      "metadata": {
        "id": "PLWEnEsYdzaT",
        "colab_type": "code",
        "outputId": "5b70b037-eea8-46db-d203-9356fd8739ef",
        "colab": {
          "base_uri": "https://localhost:8080/",
          "height": 309
        }
      },
      "cell_type": "code",
      "source": [
        "df_train = df\n",
        "df_train.head()"
      ],
      "execution_count": 4,
      "outputs": [
        {
          "output_type": "execute_result",
          "data": {
            "text/html": [
              "<div>\n",
              "<style scoped>\n",
              "    .dataframe tbody tr th:only-of-type {\n",
              "        vertical-align: middle;\n",
              "    }\n",
              "\n",
              "    .dataframe tbody tr th {\n",
              "        vertical-align: top;\n",
              "    }\n",
              "\n",
              "    .dataframe thead th {\n",
              "        text-align: right;\n",
              "    }\n",
              "</style>\n",
              "<table border=\"1\" class=\"dataframe\">\n",
              "  <thead>\n",
              "    <tr style=\"text-align: right;\">\n",
              "      <th></th>\n",
              "      <th>key</th>\n",
              "      <th>fare_amount</th>\n",
              "      <th>pickup_datetime</th>\n",
              "      <th>pickup_longitude</th>\n",
              "      <th>pickup_latitude</th>\n",
              "      <th>dropoff_longitude</th>\n",
              "      <th>dropoff_latitude</th>\n",
              "      <th>passenger_count</th>\n",
              "      <th>abs_diff_longitude</th>\n",
              "      <th>abs_diff_latitude</th>\n",
              "      <th>minute_in_week</th>\n",
              "      <th>cos_minute_in_week</th>\n",
              "      <th>sin_minute_in_week</th>\n",
              "      <th>euclidean_distance</th>\n",
              "      <th>ny_angle</th>\n",
              "      <th>manhattan_distance</th>\n",
              "    </tr>\n",
              "  </thead>\n",
              "  <tbody>\n",
              "    <tr>\n",
              "      <th>0</th>\n",
              "      <td>2011-11-21 21:51:08+00:00</td>\n",
              "      <td>22.9</td>\n",
              "      <td>2011-11-21 21:51:08+00:00</td>\n",
              "      <td>-73.871000</td>\n",
              "      <td>40.773700</td>\n",
              "      <td>-73.9805</td>\n",
              "      <td>40.721800</td>\n",
              "      <td>0</td>\n",
              "      <td>8.661450</td>\n",
              "      <td>5.760900</td>\n",
              "      <td>2751</td>\n",
              "      <td>-0.143493</td>\n",
              "      <td>0.989651</td>\n",
              "      <td>10.402340</td>\n",
              "      <td>0.477866</td>\n",
              "      <td>14.020934</td>\n",
              "    </tr>\n",
              "    <tr>\n",
              "      <th>1</th>\n",
              "      <td>2011-06-04 02:33:29+00:00</td>\n",
              "      <td>14.9</td>\n",
              "      <td>2011-06-04 02:33:29+00:00</td>\n",
              "      <td>-74.004400</td>\n",
              "      <td>40.742400</td>\n",
              "      <td>-73.9618</td>\n",
              "      <td>40.713600</td>\n",
              "      <td>0</td>\n",
              "      <td>3.369660</td>\n",
              "      <td>3.196800</td>\n",
              "      <td>8793</td>\n",
              "      <td>0.695107</td>\n",
              "      <td>-0.718907</td>\n",
              "      <td>4.644797</td>\n",
              "      <td>0.305717</td>\n",
              "      <td>5.827401</td>\n",
              "    </tr>\n",
              "    <tr>\n",
              "      <th>2</th>\n",
              "      <td>2011-05-25 19:14:53+00:00</td>\n",
              "      <td>16.9</td>\n",
              "      <td>2011-05-25 19:14:53+00:00</td>\n",
              "      <td>-73.957553</td>\n",
              "      <td>40.761867</td>\n",
              "      <td>-73.9824</td>\n",
              "      <td>40.772012</td>\n",
              "      <td>0</td>\n",
              "      <td>1.965398</td>\n",
              "      <td>1.126095</td>\n",
              "      <td>5474</td>\n",
              "      <td>-0.963630</td>\n",
              "      <td>-0.267238</td>\n",
              "      <td>2.265144</td>\n",
              "      <td>0.544496</td>\n",
              "      <td>3.110894</td>\n",
              "    </tr>\n",
              "    <tr>\n",
              "      <th>3</th>\n",
              "      <td>2011-06-12 02:10:26+00:00</td>\n",
              "      <td>22.9</td>\n",
              "      <td>2011-06-12 02:10:26+00:00</td>\n",
              "      <td>-73.988700</td>\n",
              "      <td>40.718700</td>\n",
              "      <td>-73.8369</td>\n",
              "      <td>40.720500</td>\n",
              "      <td>0</td>\n",
              "      <td>12.007380</td>\n",
              "      <td>0.199800</td>\n",
              "      <td>130</td>\n",
              "      <td>0.996719</td>\n",
              "      <td>0.080944</td>\n",
              "      <td>12.009042</td>\n",
              "      <td>1.048158</td>\n",
              "      <td>16.400427</td>\n",
              "    </tr>\n",
              "    <tr>\n",
              "      <th>4</th>\n",
              "      <td>2011-11-09 08:17:01+00:00</td>\n",
              "      <td>30.1</td>\n",
              "      <td>2011-11-09 08:17:01+00:00</td>\n",
              "      <td>-73.995300</td>\n",
              "      <td>40.739400</td>\n",
              "      <td>-74.0003</td>\n",
              "      <td>40.758300</td>\n",
              "      <td>0</td>\n",
              "      <td>0.395500</td>\n",
              "      <td>2.097900</td>\n",
              "      <td>4817</td>\n",
              "      <td>-0.990355</td>\n",
              "      <td>0.138556</td>\n",
              "      <td>2.134855</td>\n",
              "      <td>-0.319665</td>\n",
              "      <td>2.697580</td>\n",
              "    </tr>\n",
              "  </tbody>\n",
              "</table>\n",
              "</div>"
            ],
            "text/plain": [
              "                        key  fare_amount           pickup_datetime  \\\n",
              "0 2011-11-21 21:51:08+00:00         22.9 2011-11-21 21:51:08+00:00   \n",
              "1 2011-06-04 02:33:29+00:00         14.9 2011-06-04 02:33:29+00:00   \n",
              "2 2011-05-25 19:14:53+00:00         16.9 2011-05-25 19:14:53+00:00   \n",
              "3 2011-06-12 02:10:26+00:00         22.9 2011-06-12 02:10:26+00:00   \n",
              "4 2011-11-09 08:17:01+00:00         30.1 2011-11-09 08:17:01+00:00   \n",
              "\n",
              "   pickup_longitude  pickup_latitude  dropoff_longitude  dropoff_latitude  \\\n",
              "0        -73.871000        40.773700           -73.9805         40.721800   \n",
              "1        -74.004400        40.742400           -73.9618         40.713600   \n",
              "2        -73.957553        40.761867           -73.9824         40.772012   \n",
              "3        -73.988700        40.718700           -73.8369         40.720500   \n",
              "4        -73.995300        40.739400           -74.0003         40.758300   \n",
              "\n",
              "   passenger_count  abs_diff_longitude  abs_diff_latitude  minute_in_week  \\\n",
              "0                0            8.661450           5.760900            2751   \n",
              "1                0            3.369660           3.196800            8793   \n",
              "2                0            1.965398           1.126095            5474   \n",
              "3                0           12.007380           0.199800             130   \n",
              "4                0            0.395500           2.097900            4817   \n",
              "\n",
              "   cos_minute_in_week  sin_minute_in_week  euclidean_distance  ny_angle  \\\n",
              "0           -0.143493            0.989651           10.402340  0.477866   \n",
              "1            0.695107           -0.718907            4.644797  0.305717   \n",
              "2           -0.963630           -0.267238            2.265144  0.544496   \n",
              "3            0.996719            0.080944           12.009042  1.048158   \n",
              "4           -0.990355            0.138556            2.134855 -0.319665   \n",
              "\n",
              "   manhattan_distance  \n",
              "0           14.020934  \n",
              "1            5.827401  \n",
              "2            3.110894  \n",
              "3           16.400427  \n",
              "4            2.697580  "
            ]
          },
          "metadata": {
            "tags": []
          },
          "execution_count": 4
        }
      ]
    },
    {
      "metadata": {
        "id": "viBQSO1UsAhW",
        "colab_type": "text"
      },
      "cell_type": "markdown",
      "source": [
        "## Import data directly from Colab\n"
      ]
    },
    {
      "metadata": {
        "id": "0m6VLzNUsJ9m",
        "colab_type": "code",
        "outputId": "2436876f-47bf-40a3-f87b-3964a356a708",
        "colab": {
          "base_uri": "https://localhost:8080/",
          "height": 204
        }
      },
      "cell_type": "code",
      "source": [
        "df_train = pd.read_csv('train.csv', nrows=500_000, parse_dates=[\"pickup_datetime\"])\n",
        "df_train.head()"
      ],
      "execution_count": 0,
      "outputs": [
        {
          "output_type": "execute_result",
          "data": {
            "text/html": [
              "<div>\n",
              "<style scoped>\n",
              "    .dataframe tbody tr th:only-of-type {\n",
              "        vertical-align: middle;\n",
              "    }\n",
              "\n",
              "    .dataframe tbody tr th {\n",
              "        vertical-align: top;\n",
              "    }\n",
              "\n",
              "    .dataframe thead th {\n",
              "        text-align: right;\n",
              "    }\n",
              "</style>\n",
              "<table border=\"1\" class=\"dataframe\">\n",
              "  <thead>\n",
              "    <tr style=\"text-align: right;\">\n",
              "      <th></th>\n",
              "      <th>key</th>\n",
              "      <th>fare_amount</th>\n",
              "      <th>pickup_datetime</th>\n",
              "      <th>pickup_longitude</th>\n",
              "      <th>pickup_latitude</th>\n",
              "      <th>dropoff_longitude</th>\n",
              "      <th>dropoff_latitude</th>\n",
              "      <th>passenger_count</th>\n",
              "    </tr>\n",
              "  </thead>\n",
              "  <tbody>\n",
              "    <tr>\n",
              "      <th>0</th>\n",
              "      <td>2012-01-18 10:15:28.0000001</td>\n",
              "      <td>5.3</td>\n",
              "      <td>2012-01-18 10:15:28</td>\n",
              "      <td>-73.999906</td>\n",
              "      <td>40.727304</td>\n",
              "      <td>-74.001324</td>\n",
              "      <td>40.736911</td>\n",
              "      <td>1</td>\n",
              "    </tr>\n",
              "    <tr>\n",
              "      <th>1</th>\n",
              "      <td>2012-09-06 14:48:00.00000030</td>\n",
              "      <td>21.5</td>\n",
              "      <td>2012-09-06 14:48:00</td>\n",
              "      <td>-73.974438</td>\n",
              "      <td>40.754583</td>\n",
              "      <td>-73.979488</td>\n",
              "      <td>40.764328</td>\n",
              "      <td>5</td>\n",
              "    </tr>\n",
              "    <tr>\n",
              "      <th>2</th>\n",
              "      <td>2009-05-02 22:19:14.0000002</td>\n",
              "      <td>10.5</td>\n",
              "      <td>2009-05-02 22:19:14</td>\n",
              "      <td>0.000000</td>\n",
              "      <td>0.000000</td>\n",
              "      <td>0.000000</td>\n",
              "      <td>0.000000</td>\n",
              "      <td>1</td>\n",
              "    </tr>\n",
              "    <tr>\n",
              "      <th>3</th>\n",
              "      <td>2009-10-31 12:10:59.0000001</td>\n",
              "      <td>5.7</td>\n",
              "      <td>2009-10-31 12:10:59</td>\n",
              "      <td>0.000000</td>\n",
              "      <td>0.000000</td>\n",
              "      <td>0.000000</td>\n",
              "      <td>0.000000</td>\n",
              "      <td>1</td>\n",
              "    </tr>\n",
              "    <tr>\n",
              "      <th>4</th>\n",
              "      <td>2012-10-30 12:33:41.0000001</td>\n",
              "      <td>4.0</td>\n",
              "      <td>2012-10-30 12:33:41</td>\n",
              "      <td>-73.989309</td>\n",
              "      <td>40.763072</td>\n",
              "      <td>-73.988742</td>\n",
              "      <td>40.758697</td>\n",
              "      <td>1</td>\n",
              "    </tr>\n",
              "  </tbody>\n",
              "</table>\n",
              "</div>"
            ],
            "text/plain": [
              "                            key  fare_amount     pickup_datetime  \\\n",
              "0   2012-01-18 10:15:28.0000001          5.3 2012-01-18 10:15:28   \n",
              "1  2012-09-06 14:48:00.00000030         21.5 2012-09-06 14:48:00   \n",
              "2   2009-05-02 22:19:14.0000002         10.5 2009-05-02 22:19:14   \n",
              "3   2009-10-31 12:10:59.0000001          5.7 2009-10-31 12:10:59   \n",
              "4   2012-10-30 12:33:41.0000001          4.0 2012-10-30 12:33:41   \n",
              "\n",
              "   pickup_longitude  pickup_latitude  dropoff_longitude  dropoff_latitude  \\\n",
              "0        -73.999906        40.727304         -74.001324         40.736911   \n",
              "1        -73.974438        40.754583         -73.979488         40.764328   \n",
              "2          0.000000         0.000000           0.000000          0.000000   \n",
              "3          0.000000         0.000000           0.000000          0.000000   \n",
              "4        -73.989309        40.763072         -73.988742         40.758697   \n",
              "\n",
              "   passenger_count  \n",
              "0                1  \n",
              "1                5  \n",
              "2                1  \n",
              "3                1  \n",
              "4                1  "
            ]
          },
          "metadata": {
            "tags": []
          },
          "execution_count": 165
        }
      ]
    },
    {
      "metadata": {
        "id": "uuWjeEhS57T-",
        "colab_type": "text"
      },
      "cell_type": "markdown",
      "source": [
        "## Preprocessing"
      ]
    },
    {
      "metadata": {
        "id": "NJWel4Lp72Hd",
        "colab_type": "code",
        "outputId": "a686da75-1d56-4881-b56c-5f00479770b0",
        "colab": {
          "base_uri": "https://localhost:8080/",
          "height": 34
        }
      },
      "cell_type": "code",
      "source": [
        "print('Sample size before preprocessing: %d' % len(df_train))"
      ],
      "execution_count": 5,
      "outputs": [
        {
          "output_type": "stream",
          "text": [
            "Sample size before preprocessing: 1000000\n"
          ],
          "name": "stdout"
        }
      ]
    },
    {
      "metadata": {
        "id": "yPeGQN9y56mO",
        "colab_type": "code",
        "colab": {}
      },
      "cell_type": "code",
      "source": [
        "# drop-out negative fare\n",
        "df_train = df_train[df_train.fare_amount>=0]\n",
        "\n",
        "# drop-out non full line\n",
        "df_train = df_train.dropna(how = 'any', axis = 'rows')"
      ],
      "execution_count": 0,
      "outputs": []
    },
    {
      "metadata": {
        "id": "v89inH5QkQON",
        "colab_type": "code",
        "outputId": "f84d13bc-f14f-4156-d4cb-8ef373542572",
        "colab": {
          "base_uri": "https://localhost:8080/",
          "height": 34
        }
      },
      "cell_type": "code",
      "source": [
        "# minimum and maximum longitude test set\n",
        "min(df_train.pickup_longitude.min(), df_train.dropoff_longitude.min()), \\\n",
        "max(df_train.pickup_longitude.max(), df_train.dropoff_longitude.max())"
      ],
      "execution_count": 7,
      "outputs": [
        {
          "output_type": "execute_result",
          "data": {
            "text/plain": [
              "(-74.490387, -72.809405)"
            ]
          },
          "metadata": {
            "tags": []
          },
          "execution_count": 7
        }
      ]
    },
    {
      "metadata": {
        "id": "Z-S4GgUTkXEt",
        "colab_type": "code",
        "outputId": "2689557c-a986-449c-b7a3-d52653d6ea9c",
        "colab": {
          "base_uri": "https://localhost:8080/",
          "height": 34
        }
      },
      "cell_type": "code",
      "source": [
        "# minimum and maximum latitude test set\n",
        "min(df_train.pickup_latitude.min(), df_train.dropoff_latitude.min()), \\\n",
        "max(df_train.pickup_latitude.max(), df_train.dropoff_latitude.max())"
      ],
      "execution_count": 8,
      "outputs": [
        {
          "output_type": "execute_result",
          "data": {
            "text/plain": [
              "(40.50832, 41.75844)"
            ]
          },
          "metadata": {
            "tags": []
          },
          "execution_count": 8
        }
      ]
    },
    {
      "metadata": {
        "id": "NPBJluS78LmM",
        "colab_type": "code",
        "colab": {}
      },
      "cell_type": "code",
      "source": [
        "def select_within_boundingbox(df, BB):\n",
        "    return (df.pickup_longitude >= BB[0]) & (df.pickup_longitude <= BB[1]) & \\\n",
        "           (df.pickup_latitude >= BB[2]) & (df.pickup_latitude <= BB[3]) & \\\n",
        "           (df.dropoff_longitude >= BB[0]) & (df.dropoff_longitude <= BB[1]) & \\\n",
        "           (df.dropoff_latitude >= BB[2]) & (df.dropoff_latitude <= BB[3])\n",
        "  \n",
        "# load image of NYC map\n",
        "BB = (-74.5, -72.8, 40.5, 41.8)\n",
        "nyc_map = plt.imread('https://aiblog.nl/download/nyc_-74.5_-72.8_40.5_41.8.png')\n",
        "\n",
        "# load extra image to zoom in on NYC\n",
        "BB_zoom = (-74.3, -73.7, 40.5, 40.9)\n",
        "nyc_map_zoom = plt.imread('https://aiblog.nl/download/nyc_-74.3_-73.7_40.5_40.9.png')\n",
        "\n",
        "df_train = df_train[select_within_boundingbox(df_train, BB)]"
      ],
      "execution_count": 0,
      "outputs": []
    },
    {
      "metadata": {
        "id": "Ji3oJXiL9T9i",
        "colab_type": "code",
        "colab": {}
      },
      "cell_type": "code",
      "source": [
        "# Eead nyc mask and turn into boolean map with\n",
        "# land = True, water = False\n",
        "nyc_mask = plt.imread('https://aiblog.nl/download/nyc_mask-74.5_-72.8_40.5_41.8.png')[:,:,0] > 0.9\n",
        "\n",
        "\n",
        "\n",
        "def remove_datapoints_from_water(df):\n",
        "    def lonlat_to_xy(longitude, latitude, dx, dy, BB):\n",
        "        return (dx*(longitude - BB[0])/(BB[1]-BB[0])).astype('int'), \\\n",
        "               (dy - dy*(latitude - BB[2])/(BB[3]-BB[2])).astype('int')\n",
        "      \n",
        "    # define bounding box\n",
        "    BB = (-74.5, -72.8, 40.5, 41.8)\n",
        "    \n",
        "    # read nyc mask and turn into boolean map with\n",
        "    # land = True, water = False\n",
        "    nyc_mask = plt.imread('https://aiblog.nl/download/nyc_mask-74.5_-72.8_40.5_41.8.png')[:,:,0] > 0.9\n",
        "    \n",
        "    # calculate for each lon,lat coordinate the xy coordinate in the mask map\n",
        "    pickup_x, pickup_y = lonlat_to_xy(df.pickup_longitude, df.pickup_latitude, \n",
        "                                      nyc_mask.shape[1], nyc_mask.shape[0], BB)\n",
        "    dropoff_x, dropoff_y = lonlat_to_xy(df.dropoff_longitude, df.dropoff_latitude, \n",
        "                                      nyc_mask.shape[1], nyc_mask.shape[0], BB)    \n",
        "    # calculate boolean index\n",
        "    idx = nyc_mask[pickup_y, pickup_x] & nyc_mask[dropoff_y, dropoff_x]\n",
        "    \n",
        "    # return only datapoints on land\n",
        "    return df[idx]\n",
        "  \n",
        "  \n",
        "\n",
        "df_train = remove_datapoints_from_water(df_train)"
      ],
      "execution_count": 0,
      "outputs": []
    },
    {
      "metadata": {
        "id": "5qKUs-vl62yG",
        "colab_type": "code",
        "outputId": "1baa4eba-f0a9-4ce1-cb9c-ccf79c3a4bca",
        "colab": {
          "base_uri": "https://localhost:8080/",
          "height": 34
        }
      },
      "cell_type": "code",
      "source": [
        "print('Sample size after preprocessing: %d' % len(df_train))"
      ],
      "execution_count": 11,
      "outputs": [
        {
          "output_type": "stream",
          "text": [
            "Sample size after preprocessing: 999800\n"
          ],
          "name": "stdout"
        }
      ]
    },
    {
      "metadata": {
        "id": "k0V72Woe-SGY",
        "colab_type": "text"
      },
      "cell_type": "markdown",
      "source": [
        "## Feature engineering"
      ]
    },
    {
      "metadata": {
        "id": "ix9FY5s7-Yqh",
        "colab_type": "text"
      },
      "cell_type": "markdown",
      "source": [
        "### Manhattan distance"
      ]
    },
    {
      "metadata": {
        "id": "1kWjPZ43-eIA",
        "colab_type": "code",
        "outputId": "0e19b335-a07f-47db-9bd0-e043edb8067e",
        "colab": {
          "base_uri": "https://localhost:8080/",
          "height": 326
        }
      },
      "cell_type": "code",
      "source": [
        "# Given a dataframe, add two new features 'abs_diff_longitude' and 'abs_diff_latitude' reprensenting the vector from\n",
        "# the pickup location to the dropoff location\n",
        "\n",
        "def add_travel_vector_features(df):\n",
        "    df['abs_diff_longitude'] = (df.dropoff_longitude - df.pickup_longitude).abs()\n",
        "    df['abs_diff_latitude'] = (df.dropoff_latitude - df.pickup_latitude).abs()\n",
        "\n",
        "add_travel_vector_features(df_train)\n",
        "\n",
        "\n",
        "def convert_kilometers(train_df):\n",
        "    train_df['abs_diff_longitude'] = train_df.abs_diff_longitude * 79.1\n",
        "    train_df['abs_diff_latitude'] = train_df.abs_diff_latitude * 111\n",
        "    \n",
        "convert_kilometers(df_train)\n",
        "\n",
        "\n",
        "### Angle difference between north, and manhattan roadways\n",
        "meas_ang = 0.506 # 29 degrees = 0.506 radians\n",
        "import math\n",
        "\n",
        "## adding extra features\n",
        "def add_extra_manh_features(df):\n",
        "    df['euclidean_distance'] = (df.abs_diff_latitude**2 + df.abs_diff_longitude**2)**0.5  \n",
        "    df['delta_manh_long'] = (df.euclidean_distance*np.sin(np.arctan(df.abs_diff_longitude / df.abs_diff_latitude)-meas_ang)).abs()\n",
        "    df['delta_manh_lat'] = (df.euclidean_distance*np.cos(np.arctan(df.abs_diff_longitude / df.abs_diff_latitude)-meas_ang)).abs()\n",
        "    df['manh_distance'] = df.delta_manh_long + df.delta_manh_lat\n",
        "    df['euclidean_error'] = (df.manh_distance - df.euclidean_distance)*100 /  df.euclidean_distance\n",
        "\n",
        "    \n",
        "add_extra_manh_features(df_train)\n",
        "\n",
        "tmp = len(df_train)\n",
        "df_train = df_train.dropna(how = 'any', axis = 'rows')\n",
        "print('Raws where distante = NaN: %d' % (tmp-len(df_train)))\n",
        "\n",
        "df_train.head()"
      ],
      "execution_count": 0,
      "outputs": [
        {
          "output_type": "stream",
          "text": [
            "Raws where distante = NaN: 0\n"
          ],
          "name": "stdout"
        },
        {
          "output_type": "execute_result",
          "data": {
            "text/html": [
              "<div>\n",
              "<style scoped>\n",
              "    .dataframe tbody tr th:only-of-type {\n",
              "        vertical-align: middle;\n",
              "    }\n",
              "\n",
              "    .dataframe tbody tr th {\n",
              "        vertical-align: top;\n",
              "    }\n",
              "\n",
              "    .dataframe thead th {\n",
              "        text-align: right;\n",
              "    }\n",
              "</style>\n",
              "<table border=\"1\" class=\"dataframe\">\n",
              "  <thead>\n",
              "    <tr style=\"text-align: right;\">\n",
              "      <th></th>\n",
              "      <th>key</th>\n",
              "      <th>fare_amount</th>\n",
              "      <th>pickup_datetime</th>\n",
              "      <th>pickup_longitude</th>\n",
              "      <th>pickup_latitude</th>\n",
              "      <th>dropoff_longitude</th>\n",
              "      <th>dropoff_latitude</th>\n",
              "      <th>passenger_count</th>\n",
              "      <th>abs_diff_longitude</th>\n",
              "      <th>abs_diff_latitude</th>\n",
              "      <th>euclidean_distance</th>\n",
              "      <th>delta_manh_long</th>\n",
              "      <th>delta_manh_lat</th>\n",
              "      <th>manh_distance</th>\n",
              "      <th>euclidean_error</th>\n",
              "    </tr>\n",
              "  </thead>\n",
              "  <tbody>\n",
              "    <tr>\n",
              "      <th>0</th>\n",
              "      <td>2012-01-18 10:15:28.0000001</td>\n",
              "      <td>5.3</td>\n",
              "      <td>2012-01-18 10:15:28</td>\n",
              "      <td>-73.999906</td>\n",
              "      <td>40.727304</td>\n",
              "      <td>-74.001324</td>\n",
              "      <td>40.736911</td>\n",
              "      <td>1</td>\n",
              "      <td>0.112164</td>\n",
              "      <td>1.066377</td>\n",
              "      <td>1.072260</td>\n",
              "      <td>0.418746</td>\n",
              "      <td>0.987113</td>\n",
              "      <td>1.405859</td>\n",
              "      <td>31.111806</td>\n",
              "    </tr>\n",
              "    <tr>\n",
              "      <th>1</th>\n",
              "      <td>2012-09-06 14:48:00.00000030</td>\n",
              "      <td>21.5</td>\n",
              "      <td>2012-09-06 14:48:00</td>\n",
              "      <td>-73.974438</td>\n",
              "      <td>40.754583</td>\n",
              "      <td>-73.979488</td>\n",
              "      <td>40.764328</td>\n",
              "      <td>5</td>\n",
              "      <td>0.399455</td>\n",
              "      <td>1.081695</td>\n",
              "      <td>1.153095</td>\n",
              "      <td>0.174879</td>\n",
              "      <td>1.139757</td>\n",
              "      <td>1.314636</td>\n",
              "      <td>14.009324</td>\n",
              "    </tr>\n",
              "    <tr>\n",
              "      <th>4</th>\n",
              "      <td>2012-10-30 12:33:41.0000001</td>\n",
              "      <td>4.0</td>\n",
              "      <td>2012-10-30 12:33:41</td>\n",
              "      <td>-73.989309</td>\n",
              "      <td>40.763072</td>\n",
              "      <td>-73.988742</td>\n",
              "      <td>40.758697</td>\n",
              "      <td>1</td>\n",
              "      <td>0.044850</td>\n",
              "      <td>0.485625</td>\n",
              "      <td>0.487692</td>\n",
              "      <td>0.196144</td>\n",
              "      <td>0.446509</td>\n",
              "      <td>0.642654</td>\n",
              "      <td>31.774575</td>\n",
              "    </tr>\n",
              "    <tr>\n",
              "      <th>5</th>\n",
              "      <td>2014-07-21 22:15:00.000000159</td>\n",
              "      <td>30.0</td>\n",
              "      <td>2014-07-21 22:15:00</td>\n",
              "      <td>-73.875200</td>\n",
              "      <td>40.773922</td>\n",
              "      <td>-73.971135</td>\n",
              "      <td>40.753697</td>\n",
              "      <td>1</td>\n",
              "      <td>7.588458</td>\n",
              "      <td>2.244975</td>\n",
              "      <td>7.913572</td>\n",
              "      <td>5.549451</td>\n",
              "      <td>5.641650</td>\n",
              "      <td>11.191100</td>\n",
              "      <td>41.416557</td>\n",
              "    </tr>\n",
              "    <tr>\n",
              "      <th>6</th>\n",
              "      <td>2011-02-25 23:35:00.000000154</td>\n",
              "      <td>13.3</td>\n",
              "      <td>2011-02-25 23:35:00</td>\n",
              "      <td>-74.008035</td>\n",
              "      <td>40.705807</td>\n",
              "      <td>-73.987173</td>\n",
              "      <td>40.729433</td>\n",
              "      <td>5</td>\n",
              "      <td>1.650184</td>\n",
              "      <td>2.622486</td>\n",
              "      <td>3.098474</td>\n",
              "      <td>0.172327</td>\n",
              "      <td>3.093678</td>\n",
              "      <td>3.266005</td>\n",
              "      <td>5.406900</td>\n",
              "    </tr>\n",
              "  </tbody>\n",
              "</table>\n",
              "</div>"
            ],
            "text/plain": [
              "                             key  fare_amount     pickup_datetime  \\\n",
              "0    2012-01-18 10:15:28.0000001          5.3 2012-01-18 10:15:28   \n",
              "1   2012-09-06 14:48:00.00000030         21.5 2012-09-06 14:48:00   \n",
              "4    2012-10-30 12:33:41.0000001          4.0 2012-10-30 12:33:41   \n",
              "5  2014-07-21 22:15:00.000000159         30.0 2014-07-21 22:15:00   \n",
              "6  2011-02-25 23:35:00.000000154         13.3 2011-02-25 23:35:00   \n",
              "\n",
              "   pickup_longitude  pickup_latitude  dropoff_longitude  dropoff_latitude  \\\n",
              "0        -73.999906        40.727304         -74.001324         40.736911   \n",
              "1        -73.974438        40.754583         -73.979488         40.764328   \n",
              "4        -73.989309        40.763072         -73.988742         40.758697   \n",
              "5        -73.875200        40.773922         -73.971135         40.753697   \n",
              "6        -74.008035        40.705807         -73.987173         40.729433   \n",
              "\n",
              "   passenger_count  abs_diff_longitude  abs_diff_latitude  euclidean_distance  \\\n",
              "0                1            0.112164           1.066377            1.072260   \n",
              "1                5            0.399455           1.081695            1.153095   \n",
              "4                1            0.044850           0.485625            0.487692   \n",
              "5                1            7.588458           2.244975            7.913572   \n",
              "6                5            1.650184           2.622486            3.098474   \n",
              "\n",
              "   delta_manh_long  delta_manh_lat  manh_distance  euclidean_error  \n",
              "0         0.418746        0.987113       1.405859        31.111806  \n",
              "1         0.174879        1.139757       1.314636        14.009324  \n",
              "4         0.196144        0.446509       0.642654        31.774575  \n",
              "5         5.549451        5.641650      11.191100        41.416557  \n",
              "6         0.172327        3.093678       3.266005         5.406900  "
            ]
          },
          "metadata": {
            "tags": []
          },
          "execution_count": 119
        }
      ]
    },
    {
      "metadata": {
        "id": "LZU-hpuIB6KU",
        "colab_type": "text"
      },
      "cell_type": "markdown",
      "source": [
        "## Build the network"
      ]
    },
    {
      "metadata": {
        "id": "ZC0QnpIWE--j",
        "colab_type": "code",
        "outputId": "d27a0ce8-f78d-4600-a16d-a8fa7b8c6e77",
        "colab": {
          "base_uri": "https://localhost:8080/",
          "height": 238
        }
      },
      "cell_type": "code",
      "source": [
        "def getYear(x):\n",
        "    return x.year%2000\n",
        "  \n",
        "def getMonth(x):\n",
        "  return x.month\n",
        "\n",
        "def getHour(x):\n",
        "  return x.hour  \n",
        "\n",
        "def getHourCos(x):\n",
        "  return math.cos(2* math.pi * x.hour/24)  \n",
        "\n",
        "def getHourSin(x):\n",
        "  return math.sin(2* math.pi * x.hour/24)  \n",
        "\n",
        "def getDayOfWeek(x,day):\n",
        "  #tmp = tf.keras.backend.one_hot(x.dayofweek, 7)\n",
        "  if x.dayofweek == day:\n",
        "    return 1\n",
        "  else :\n",
        "    return 0\n",
        "\n",
        "train_x = pd.DataFrame()\n",
        "train_x['pickup_longitude'] = df_train.pickup_longitude\n",
        "train_x['pickup_latitude'] = df_train.pickup_latitude\n",
        "train_x['dropoff_longitude'] = df_train.dropoff_longitude\n",
        "train_x['dropoff_latitude'] = df_train.dropoff_latitude\n",
        "train_x['passenger_count'] = df_train.passenger_count\n",
        "train_x['manh_distance'] = df_train.manhattan_distance\n",
        "train_x['pickup_year'] = df_train.pickup_datetime.apply(getYear)\n",
        "train_x['pickup_month'] = df_train.pickup_datetime.apply(getMonth)\n",
        "#train_x['pickup_hour'] = df_train.pickup_datetime.apply(getHour)\n",
        "\n",
        "#train_x['pickup_hour_cos'] = df_train.pickup_datetime.apply(getHourCos)\n",
        "#train_x['pickup_hour_sin'] = df_train.pickup_datetime.apply(getHourSin)\n",
        "train_x['pickup_hour_cos'] = df_train.cos_minute_in_week\n",
        "train_x['pickup_hour_sin'] = df_train.sin_minute_in_week\n",
        "\n",
        "\"\"\"train_x['pickup_day_of_week_mon'] = df_train.pickup_datetime.apply(lambda x: getDayOfWeek(x,0))\n",
        "train_x['pickup_day_of_week_tue'] = df_train.pickup_datetime.apply(lambda x: getDayOfWeek(x,1))\n",
        "train_x['pickup_day_of_week_wed'] = df_train.pickup_datetime.apply(lambda x: getDayOfWeek(x,2))\n",
        "train_x['pickup_day_of_week_thu'] = df_train.pickup_datetime.apply(lambda x: getDayOfWeek(x,3))\n",
        "train_x['pickup_day_of_week_fri'] = df_train.pickup_datetime.apply(lambda x: getDayOfWeek(x,4))\n",
        "train_x['pickup_day_of_week_sat'] = df_train.pickup_datetime.apply(lambda x: getDayOfWeek(x,5))\n",
        "train_x['pickup_day_of_week_sun'] = df_train.pickup_datetime.apply(lambda x: getDayOfWeek(x,6))\"\"\"\n",
        "\n",
        "\n",
        "train_y = df_train.fare_amount\n",
        "\n",
        "train_size = 0.999 #0.00009 #0.99996\n",
        "train_cnt = floor(train_x.shape[0] * train_size)\n",
        "x_train = train_x.iloc[0:train_cnt].values\n",
        "y_train = train_y.iloc[0:train_cnt].values\n",
        "print (x_train)\n",
        "x_test = train_x.iloc[train_cnt:].values\n",
        "y_test = train_y.iloc[train_cnt:].values"
      ],
      "execution_count": 12,
      "outputs": [
        {
          "output_type": "stream",
          "text": [
            "[[-73.871       40.7737     -73.9805     ...  11.          -0.14349262\n",
            "    0.98965139]\n",
            " [-74.0044      40.7424     -73.9618     ...   6.           0.69510662\n",
            "   -0.71890666]\n",
            " [-73.957553    40.761867   -73.9824     ...   5.          -0.96363045\n",
            "   -0.26723838]\n",
            " ...\n",
            " [-73.978732    40.777528   -73.990703   ...   6.          -0.85035222\n",
            "    0.52621392]\n",
            " [-73.965968    40.805437   -73.982252   ...   4.           0.13423327\n",
            "    0.99094976]\n",
            " [-73.990597    40.75118    -73.957615   ...  11.          -0.99458686\n",
            "    0.10390853]]\n"
          ],
          "name": "stdout"
        }
      ]
    },
    {
      "metadata": {
        "id": "IHEEXEFRqzQi",
        "colab_type": "code",
        "outputId": "2d7c1e08-19f1-4323-f73f-6c9eab5d6aa9",
        "colab": {
          "base_uri": "https://localhost:8080/",
          "height": 238
        }
      },
      "cell_type": "code",
      "source": [
        "inputs = tf.keras.Input(shape=(10,), name='input_layer')\n",
        "\n",
        "x = tf.keras.layers.Dense(512, activation='relu')(inputs)\n",
        "#x = tf.keras.layers.Dense(512, activation='relu')(x)\n",
        "x = tf.keras.layers.Dense(512, activation='relu')(x)\n",
        "#x = tf.keras.layers.Dense(128, activation='relu')(x)\n",
        "predictions = tf.keras.layers.Dense(1, activation='relu')(x)\n",
        "\n",
        "model = tf.keras.Model(inputs=inputs, outputs=predictions)\n",
        "model.compile(optimizer='rmsprop',\n",
        "              loss='mse',\n",
        "              metrics=['accuracy'])\n",
        "print_weights = LambdaCallback(on_epoch_end=lambda batch, logs: print(model.layers[5].get_weights()))\n",
        "#model.fit(x_train, y_train, batch_size=32, epochs=20,callbacks = [print_weights])\n",
        "model.fit(x_train, y_train, batch_size=32, epochs=6)"
      ],
      "execution_count": 13,
      "outputs": [
        {
          "output_type": "stream",
          "text": [
            "Epoch 1/6\n",
            "998800/998800 [==============================] - 124s 124us/step - loss: 21.9032 - acc: 0.0000e+00\n",
            "Epoch 2/6\n",
            "998800/998800 [==============================] - 129s 129us/step - loss: 20.3964 - acc: 0.0000e+00\n",
            "Epoch 3/6\n",
            "998800/998800 [==============================] - 129s 129us/step - loss: 20.2518 - acc: 0.0000e+00\n",
            "Epoch 4/6\n",
            "998800/998800 [==============================] - 121s 121us/step - loss: 20.1882 - acc: 0.0000e+00\n",
            "Epoch 5/6\n",
            "998800/998800 [==============================] - 121s 121us/step - loss: 20.1781 - acc: 0.0000e+00\n",
            "Epoch 6/6\n",
            "998800/998800 [==============================] - 121s 121us/step - loss: 20.1069 - acc: 0.0000e+00\n"
          ],
          "name": "stdout"
        },
        {
          "output_type": "execute_result",
          "data": {
            "text/plain": [
              "<tensorflow.python.keras.callbacks.History at 0x7f988a956da0>"
            ]
          },
          "metadata": {
            "tags": []
          },
          "execution_count": 13
        }
      ]
    },
    {
      "metadata": {
        "id": "t8UWHbn3EHXg",
        "colab_type": "text"
      },
      "cell_type": "markdown",
      "source": [
        "## Local evaluation"
      ]
    },
    {
      "metadata": {
        "id": "xKpopSBJTMML",
        "colab_type": "code",
        "outputId": "7211b1c9-eaf7-4129-93c9-f26cb6b93118",
        "colab": {
          "base_uri": "https://localhost:8080/",
          "height": 51
        }
      },
      "cell_type": "code",
      "source": [
        "model.evaluate(x_train, y_train)\n"
      ],
      "execution_count": 14,
      "outputs": [
        {
          "output_type": "stream",
          "text": [
            "998800/998800 [==============================] - 50s 50us/step\n"
          ],
          "name": "stdout"
        },
        {
          "output_type": "execute_result",
          "data": {
            "text/plain": [
              "[20.008420660837583, 0.0]"
            ]
          },
          "metadata": {
            "tags": []
          },
          "execution_count": 14
        }
      ]
    },
    {
      "metadata": {
        "id": "KENkECg5Zvjt",
        "colab_type": "code",
        "outputId": "b00642cd-61e2-430e-e158-83036888d495",
        "colab": {
          "base_uri": "https://localhost:8080/",
          "height": 221
        }
      },
      "cell_type": "code",
      "source": [
        "import math \n",
        "\n",
        "print (y_test[0:10])\n",
        "\n",
        "predictionTmp = model.predict(x_test)\n",
        "\n",
        "print (predictionTmp[0:10])\n",
        "\n",
        "erreurTotale = 0\n",
        "for i in range(100):\n",
        "  erreurTotale += math.pow((y_test[i] - predictionTmp[i][0]),2)\n",
        "  \n",
        "print('Erreur moyenne : ' + str(math.sqrt(erreurTotale/100)))\n",
        "    "
      ],
      "execution_count": 19,
      "outputs": [
        {
          "output_type": "stream",
          "text": [
            "[9.3 9.3 9.3 9.3 9.3 9.3 9.3 9.3 9.3 9.3]\n",
            "[[ 9.188286]\n",
            " [ 8.578967]\n",
            " [10.045488]\n",
            " [10.691004]\n",
            " [ 8.880855]\n",
            " [ 9.925058]\n",
            " [10.996304]\n",
            " [ 7.371529]\n",
            " [ 8.643094]\n",
            " [ 9.552099]]\n",
            "Erreur moyenne : 2.697566670127458\n"
          ],
          "name": "stdout"
        }
      ]
    },
    {
      "metadata": {
        "id": "tSwTycu9ga_w",
        "colab_type": "code",
        "colab": {}
      },
      "cell_type": "code",
      "source": [
        "from keras.models import load_model\n",
        "\n",
        "model.save('my_model.h5')"
      ],
      "execution_count": 0,
      "outputs": []
    },
    {
      "metadata": {
        "id": "mA918DL_ESxK",
        "colab_type": "text"
      },
      "cell_type": "markdown",
      "source": [
        "## Kaggle evaluation"
      ]
    },
    {
      "metadata": {
        "id": "z3EsX3BVEdHb",
        "colab_type": "code",
        "outputId": "1064b7ce-bec2-4474-d12b-2712f8a993bb",
        "colab": {
          "base_uri": "https://localhost:8080/",
          "height": 204
        }
      },
      "cell_type": "code",
      "source": [
        "df_test = pd.read_csv('test.csv', nrows=9915, parse_dates=[\"pickup_datetime\"])\n",
        "df_test.head()"
      ],
      "execution_count": 0,
      "outputs": [
        {
          "output_type": "execute_result",
          "data": {
            "text/html": [
              "<div>\n",
              "<style scoped>\n",
              "    .dataframe tbody tr th:only-of-type {\n",
              "        vertical-align: middle;\n",
              "    }\n",
              "\n",
              "    .dataframe tbody tr th {\n",
              "        vertical-align: top;\n",
              "    }\n",
              "\n",
              "    .dataframe thead th {\n",
              "        text-align: right;\n",
              "    }\n",
              "</style>\n",
              "<table border=\"1\" class=\"dataframe\">\n",
              "  <thead>\n",
              "    <tr style=\"text-align: right;\">\n",
              "      <th></th>\n",
              "      <th>key</th>\n",
              "      <th>pickup_datetime</th>\n",
              "      <th>pickup_longitude</th>\n",
              "      <th>pickup_latitude</th>\n",
              "      <th>dropoff_longitude</th>\n",
              "      <th>dropoff_latitude</th>\n",
              "      <th>passenger_count</th>\n",
              "    </tr>\n",
              "  </thead>\n",
              "  <tbody>\n",
              "    <tr>\n",
              "      <th>0</th>\n",
              "      <td>2015-01-27 13:08:24.0000002</td>\n",
              "      <td>2015-01-27 13:08:24</td>\n",
              "      <td>-73.973320</td>\n",
              "      <td>40.763805</td>\n",
              "      <td>-73.981430</td>\n",
              "      <td>40.743835</td>\n",
              "      <td>1</td>\n",
              "    </tr>\n",
              "    <tr>\n",
              "      <th>1</th>\n",
              "      <td>2015-01-27 13:08:24.0000003</td>\n",
              "      <td>2015-01-27 13:08:24</td>\n",
              "      <td>-73.986862</td>\n",
              "      <td>40.719383</td>\n",
              "      <td>-73.998886</td>\n",
              "      <td>40.739201</td>\n",
              "      <td>1</td>\n",
              "    </tr>\n",
              "    <tr>\n",
              "      <th>2</th>\n",
              "      <td>2011-10-08 11:53:44.0000002</td>\n",
              "      <td>2011-10-08 11:53:44</td>\n",
              "      <td>-73.982524</td>\n",
              "      <td>40.751260</td>\n",
              "      <td>-73.979654</td>\n",
              "      <td>40.746139</td>\n",
              "      <td>1</td>\n",
              "    </tr>\n",
              "    <tr>\n",
              "      <th>3</th>\n",
              "      <td>2012-12-01 21:12:12.0000002</td>\n",
              "      <td>2012-12-01 21:12:12</td>\n",
              "      <td>-73.981160</td>\n",
              "      <td>40.767807</td>\n",
              "      <td>-73.990448</td>\n",
              "      <td>40.751635</td>\n",
              "      <td>1</td>\n",
              "    </tr>\n",
              "    <tr>\n",
              "      <th>4</th>\n",
              "      <td>2012-12-01 21:12:12.0000003</td>\n",
              "      <td>2012-12-01 21:12:12</td>\n",
              "      <td>-73.966046</td>\n",
              "      <td>40.789775</td>\n",
              "      <td>-73.988565</td>\n",
              "      <td>40.744427</td>\n",
              "      <td>1</td>\n",
              "    </tr>\n",
              "  </tbody>\n",
              "</table>\n",
              "</div>"
            ],
            "text/plain": [
              "                           key     pickup_datetime  pickup_longitude  \\\n",
              "0  2015-01-27 13:08:24.0000002 2015-01-27 13:08:24        -73.973320   \n",
              "1  2015-01-27 13:08:24.0000003 2015-01-27 13:08:24        -73.986862   \n",
              "2  2011-10-08 11:53:44.0000002 2011-10-08 11:53:44        -73.982524   \n",
              "3  2012-12-01 21:12:12.0000002 2012-12-01 21:12:12        -73.981160   \n",
              "4  2012-12-01 21:12:12.0000003 2012-12-01 21:12:12        -73.966046   \n",
              "\n",
              "   pickup_latitude  dropoff_longitude  dropoff_latitude  passenger_count  \n",
              "0        40.763805         -73.981430         40.743835                1  \n",
              "1        40.719383         -73.998886         40.739201                1  \n",
              "2        40.751260         -73.979654         40.746139                1  \n",
              "3        40.767807         -73.990448         40.751635                1  \n",
              "4        40.789775         -73.988565         40.744427                1  "
            ]
          },
          "metadata": {
            "tags": []
          },
          "execution_count": 152
        }
      ]
    },
    {
      "metadata": {
        "id": "WJ6Lk_FzGn4x",
        "colab_type": "text"
      },
      "cell_type": "markdown",
      "source": [
        "### Manhattan distance"
      ]
    },
    {
      "metadata": {
        "id": "MYK-lauoGrnZ",
        "colab_type": "code",
        "outputId": "c8ef6540-c176-4165-c992-96adfb947d84",
        "colab": {
          "base_uri": "https://localhost:8080/",
          "height": 34
        }
      },
      "cell_type": "code",
      "source": [
        "# Given a dataframe, add two new features 'abs_diff_longitude' and 'abs_diff_latitude' reprensenting the vector from\n",
        "# the pickup location to the dropoff location\n",
        "\n",
        "def add_travel_vector_features(df):\n",
        "    df['abs_diff_longitude'] = (df.dropoff_longitude - df.pickup_longitude).abs()\n",
        "    df['abs_diff_latitude'] = (df.dropoff_latitude - df.pickup_latitude).abs()\n",
        "\n",
        "add_travel_vector_features(df_test)\n",
        "\n",
        "\n",
        "def convert_kilometers(train_df):\n",
        "    train_df['abs_diff_longitude'] = train_df.abs_diff_longitude * 79.1\n",
        "    train_df['abs_diff_latitude'] = train_df.abs_diff_latitude * 111\n",
        "    \n",
        "convert_kilometers(df_test)\n",
        "\n",
        "\n",
        "### Angle difference between north, and manhattan roadways\n",
        "meas_ang = 0.506 # 29 degrees = 0.506 radians\n",
        "import math\n",
        "\n",
        "## adding extra features\n",
        "def add_extra_manh_features(df):\n",
        "    df['euclidean_distance'] = (df.abs_diff_latitude**2 + df.abs_diff_longitude**2)**0.5  \n",
        "    df['delta_manh_long'] = (df.euclidean_distance*np.sin(np.arctan(df.abs_diff_longitude / df.abs_diff_latitude)-meas_ang)).abs()\n",
        "    df['delta_manh_lat'] = (df.euclidean_distance*np.cos(np.arctan(df.abs_diff_longitude / df.abs_diff_latitude)-meas_ang)).abs()\n",
        "    df['manh_distance'] = df.delta_manh_long + df.delta_manh_lat\n",
        "    df['euclidean_error'] = (df.manh_distance - df.euclidean_distance)*100 /  df.euclidean_distance\n",
        "\n",
        "    \n",
        "add_extra_manh_features(df_test)\n",
        "\n",
        "tmp = len(df_test)\n",
        "#df_test = df_test.dropna(how = 'any', axis = 'rows')\n",
        "print('Raws where distante = NaN: %d' % (tmp-len(df_test)))\n"
      ],
      "execution_count": 0,
      "outputs": [
        {
          "output_type": "stream",
          "text": [
            "Raws where distante = NaN: 0\n"
          ],
          "name": "stdout"
        }
      ]
    },
    {
      "metadata": {
        "id": "QDjqmP55JTS9",
        "colab_type": "text"
      },
      "cell_type": "markdown",
      "source": [
        "### Create input"
      ]
    },
    {
      "metadata": {
        "id": "ZP3YhDX4HFli",
        "colab_type": "code",
        "colab": {}
      },
      "cell_type": "code",
      "source": [
        "def getYear(x):\n",
        "    return x.year%2000\n",
        "  \n",
        "def getMonth(x):\n",
        "  return x.month\n",
        "\n",
        "def getHour(x):\n",
        "  return x.hour  \n",
        "\n",
        "def getHourCos(x):\n",
        "  return math.cos(2* math.pi * x.hour/24)  \n",
        "\n",
        "def getHourSin(x):\n",
        "  return math.sin(2* math.pi * x.hour/24)  \n",
        "\n",
        "def getDayOfWeek(x,day):\n",
        "  #tmp = tf.keras.backend.one_hot(x.dayofweek, 7)\n",
        "  if x.dayofweek == day:\n",
        "    return 1\n",
        "  else :\n",
        "    return 0\n",
        "\n",
        "test_x = pd.DataFrame()\n",
        "test_x['pickup_longitude'] = df_test.pickup_longitude\n",
        "test_x['pickup_latitude'] = df_test.pickup_latitude\n",
        "test_x['dropoff_longitude'] = df_test.dropoff_longitude\n",
        "test_x['dropoff_latitude'] = df_test.dropoff_latitude\n",
        "test_x['passenger_count'] = df_test.passenger_count\n",
        "test_x['manh_distance'] = df_test.manh_distance\n",
        "test_x['pickup_year'] = df_test.pickup_datetime.apply(getYear)\n",
        "test_x['pickup_month'] = df_test.pickup_datetime.apply(getMonth)\n",
        "test_x['pickup_hour_cos'] = df_test.pickup_datetime.apply(getHourCos)\n",
        "test_x['pickup_hour_sin'] = df_test.pickup_datetime.apply(getHourSin)"
      ],
      "execution_count": 0,
      "outputs": []
    },
    {
      "metadata": {
        "id": "1kVSX5tQJVx1",
        "colab_type": "text"
      },
      "cell_type": "markdown",
      "source": [
        "### Compute output"
      ]
    },
    {
      "metadata": {
        "id": "wO0_GguP3qjl",
        "colab_type": "code",
        "colab": {}
      },
      "cell_type": "code",
      "source": [
        "import csv\n",
        "\n",
        "predictionTmp = model.predict(test_x)\n",
        "prediction = []\n",
        "for i in range(predictionTmp.size):\n",
        "  prediction.append(predictionTmp[i][0])\n",
        "\n",
        "with open('4evaluation.csv', 'w') as f:\n",
        "    writer = csv.writer(f)\n",
        "\n",
        "    writer.writerows(zip(['key'],['fare_amount']))\n",
        "    #f.write('key,fare_amount')\n",
        "    writer.writerows(zip(df_test.key, prediction))"
      ],
      "execution_count": 0,
      "outputs": []
    }
  ]
}