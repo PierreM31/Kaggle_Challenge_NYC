{
  "nbformat": 4,
  "nbformat_minor": 0,
  "metadata": {
    "colab": {
      "name": "model_test.ipynb",
      "version": "0.3.2",
      "provenance": [],
      "toc_visible": true,
      "include_colab_link": true
    },
    "kernelspec": {
      "name": "python3",
      "display_name": "Python 3"
    },
    "accelerator": "GPU"
  },
  "cells": [
    {
      "cell_type": "markdown",
      "metadata": {
        "id": "view-in-github",
        "colab_type": "text"
      },
      "source": [
        "<a href=\"https://colab.research.google.com/github/PierreM31/Kaggle_Challenge_NYC/blob/master/model_test.ipynb\" target=\"_parent\"><img src=\"https://colab.research.google.com/assets/colab-badge.svg\" alt=\"Open In Colab\"/></a>"
      ]
    },
    {
      "metadata": {
        "id": "grsGjIqV6XOO",
        "colab_type": "text"
      },
      "cell_type": "markdown",
      "source": [
        "## Import lib"
      ]
    },
    {
      "metadata": {
        "id": "53SX9snJ6cD2",
        "colab_type": "text"
      },
      "cell_type": "markdown",
      "source": [
        "### Import TensorFlow GPU"
      ]
    },
    {
      "metadata": {
        "id": "uwTGc5-ifiqy",
        "colab_type": "code",
        "outputId": "bb5351af-8b6a-4dbb-fe4b-a2428f899bb0",
        "colab": {
          "base_uri": "https://localhost:8080/",
          "height": 34
        }
      },
      "cell_type": "code",
      "source": [
        "import tensorflow as tf\n",
        "device_name = tf.test.gpu_device_name()\n",
        "if device_name != '/device:GPU:0':\n",
        "  raise SystemError('GPU device not found')\n",
        "print('Found GPU at: {}'.format(device_name))"
      ],
      "execution_count": 3,
      "outputs": [
        {
          "output_type": "stream",
          "text": [
            "Found GPU at: /device:GPU:0\n"
          ],
          "name": "stdout"
        }
      ]
    },
    {
      "metadata": {
        "id": "c9Nc_YgZ6xb_",
        "colab_type": "text"
      },
      "cell_type": "markdown",
      "source": [
        "### Other import\n"
      ]
    },
    {
      "metadata": {
        "id": "iE8DLzxofqkk",
        "colab_type": "code",
        "colab": {
          "base_uri": "https://localhost:8080/",
          "height": 34
        },
        "outputId": "24a98f5d-f63e-4ed1-d65d-271effbe3f1b"
      },
      "cell_type": "code",
      "source": [
        "import numpy as np\n",
        "import pandas as pd\n",
        "import matplotlib.pyplot as plt\n",
        "from math import floor, ceil\n",
        "import seaborn as sns\n",
        "import random\n",
        "from keras.callbacks import LambdaCallback\n",
        "% matplotlib inline\n",
        "plt.style.use('seaborn-whitegrid')"
      ],
      "execution_count": 4,
      "outputs": [
        {
          "output_type": "stream",
          "text": [
            "Using TensorFlow backend.\n"
          ],
          "name": "stderr"
        }
      ]
    },
    {
      "metadata": {
        "id": "_NMc3A5dr2DG",
        "colab_type": "text"
      },
      "cell_type": "markdown",
      "source": [
        "## Import data from BigQuerry "
      ]
    },
    {
      "metadata": {
        "id": "5GNLipqJk7k5",
        "colab_type": "code",
        "colab": {}
      },
      "cell_type": "code",
      "source": [
        "#TODO\n",
        "\"\"\"from google.cloud import bigquery\n",
        "\n",
        "client = bigquery.Client(project='bigquery-public-data')\"\"\""
      ],
      "execution_count": 0,
      "outputs": []
    },
    {
      "metadata": {
        "id": "viBQSO1UsAhW",
        "colab_type": "text"
      },
      "cell_type": "markdown",
      "source": [
        "## Import data directly from Colab\n"
      ]
    },
    {
      "metadata": {
        "id": "0m6VLzNUsJ9m",
        "colab_type": "code",
        "outputId": "521f9bfc-e01e-4da1-dfa7-c2638cc474f7",
        "colab": {
          "base_uri": "https://localhost:8080/",
          "height": 204
        }
      },
      "cell_type": "code",
      "source": [
        "df_train = pd.read_csv('train.csv', nrows=500_000, parse_dates=[\"pickup_datetime\"])\n",
        "df_train.head()"
      ],
      "execution_count": 5,
      "outputs": [
        {
          "output_type": "execute_result",
          "data": {
            "text/html": [
              "<div>\n",
              "<style scoped>\n",
              "    .dataframe tbody tr th:only-of-type {\n",
              "        vertical-align: middle;\n",
              "    }\n",
              "\n",
              "    .dataframe tbody tr th {\n",
              "        vertical-align: top;\n",
              "    }\n",
              "\n",
              "    .dataframe thead th {\n",
              "        text-align: right;\n",
              "    }\n",
              "</style>\n",
              "<table border=\"1\" class=\"dataframe\">\n",
              "  <thead>\n",
              "    <tr style=\"text-align: right;\">\n",
              "      <th></th>\n",
              "      <th>key</th>\n",
              "      <th>fare_amount</th>\n",
              "      <th>pickup_datetime</th>\n",
              "      <th>pickup_longitude</th>\n",
              "      <th>pickup_latitude</th>\n",
              "      <th>dropoff_longitude</th>\n",
              "      <th>dropoff_latitude</th>\n",
              "      <th>passenger_count</th>\n",
              "    </tr>\n",
              "  </thead>\n",
              "  <tbody>\n",
              "    <tr>\n",
              "      <th>0</th>\n",
              "      <td>2012-01-18 10:15:28.0000001</td>\n",
              "      <td>5.3</td>\n",
              "      <td>2012-01-18 10:15:28</td>\n",
              "      <td>-73.999906</td>\n",
              "      <td>40.727304</td>\n",
              "      <td>-74.001324</td>\n",
              "      <td>40.736911</td>\n",
              "      <td>1</td>\n",
              "    </tr>\n",
              "    <tr>\n",
              "      <th>1</th>\n",
              "      <td>2012-09-06 14:48:00.00000030</td>\n",
              "      <td>21.5</td>\n",
              "      <td>2012-09-06 14:48:00</td>\n",
              "      <td>-73.974438</td>\n",
              "      <td>40.754583</td>\n",
              "      <td>-73.979488</td>\n",
              "      <td>40.764328</td>\n",
              "      <td>5</td>\n",
              "    </tr>\n",
              "    <tr>\n",
              "      <th>2</th>\n",
              "      <td>2009-05-02 22:19:14.0000002</td>\n",
              "      <td>10.5</td>\n",
              "      <td>2009-05-02 22:19:14</td>\n",
              "      <td>0.000000</td>\n",
              "      <td>0.000000</td>\n",
              "      <td>0.000000</td>\n",
              "      <td>0.000000</td>\n",
              "      <td>1</td>\n",
              "    </tr>\n",
              "    <tr>\n",
              "      <th>3</th>\n",
              "      <td>2009-10-31 12:10:59.0000001</td>\n",
              "      <td>5.7</td>\n",
              "      <td>2009-10-31 12:10:59</td>\n",
              "      <td>0.000000</td>\n",
              "      <td>0.000000</td>\n",
              "      <td>0.000000</td>\n",
              "      <td>0.000000</td>\n",
              "      <td>1</td>\n",
              "    </tr>\n",
              "    <tr>\n",
              "      <th>4</th>\n",
              "      <td>2012-10-30 12:33:41.0000001</td>\n",
              "      <td>4.0</td>\n",
              "      <td>2012-10-30 12:33:41</td>\n",
              "      <td>-73.989309</td>\n",
              "      <td>40.763072</td>\n",
              "      <td>-73.988742</td>\n",
              "      <td>40.758697</td>\n",
              "      <td>1</td>\n",
              "    </tr>\n",
              "  </tbody>\n",
              "</table>\n",
              "</div>"
            ],
            "text/plain": [
              "                            key  fare_amount     pickup_datetime  \\\n",
              "0   2012-01-18 10:15:28.0000001          5.3 2012-01-18 10:15:28   \n",
              "1  2012-09-06 14:48:00.00000030         21.5 2012-09-06 14:48:00   \n",
              "2   2009-05-02 22:19:14.0000002         10.5 2009-05-02 22:19:14   \n",
              "3   2009-10-31 12:10:59.0000001          5.7 2009-10-31 12:10:59   \n",
              "4   2012-10-30 12:33:41.0000001          4.0 2012-10-30 12:33:41   \n",
              "\n",
              "   pickup_longitude  pickup_latitude  dropoff_longitude  dropoff_latitude  \\\n",
              "0        -73.999906        40.727304         -74.001324         40.736911   \n",
              "1        -73.974438        40.754583         -73.979488         40.764328   \n",
              "2          0.000000         0.000000           0.000000          0.000000   \n",
              "3          0.000000         0.000000           0.000000          0.000000   \n",
              "4        -73.989309        40.763072         -73.988742         40.758697   \n",
              "\n",
              "   passenger_count  \n",
              "0                1  \n",
              "1                5  \n",
              "2                1  \n",
              "3                1  \n",
              "4                1  "
            ]
          },
          "metadata": {
            "tags": []
          },
          "execution_count": 5
        }
      ]
    },
    {
      "metadata": {
        "id": "uuWjeEhS57T-",
        "colab_type": "text"
      },
      "cell_type": "markdown",
      "source": [
        "## Preprocessing"
      ]
    },
    {
      "metadata": {
        "id": "NJWel4Lp72Hd",
        "colab_type": "code",
        "outputId": "8d2ac350-e2d2-4dd2-e2e9-93e2f8de2af4",
        "colab": {
          "base_uri": "https://localhost:8080/",
          "height": 34
        }
      },
      "cell_type": "code",
      "source": [
        "print('Sample size before preprocessing: %d' % len(df_train))"
      ],
      "execution_count": 6,
      "outputs": [
        {
          "output_type": "stream",
          "text": [
            "Sample size before preprocessing: 174752\n"
          ],
          "name": "stdout"
        }
      ]
    },
    {
      "metadata": {
        "id": "yPeGQN9y56mO",
        "colab_type": "code",
        "colab": {}
      },
      "cell_type": "code",
      "source": [
        "# drop-out negative fare\n",
        "df_train = df_train[df_train.fare_amount>=0]\n",
        "\n",
        "# drop-out non full line\n",
        "df_train = df_train.dropna(how = 'any', axis = 'rows')"
      ],
      "execution_count": 0,
      "outputs": []
    },
    {
      "metadata": {
        "id": "NPBJluS78LmM",
        "colab_type": "code",
        "colab": {}
      },
      "cell_type": "code",
      "source": [
        "# minimum and maximum longitude test set\n",
        "min(df_train.pickup_longitude.min(), df_train.dropoff_longitude.min()), \\\n",
        "max(df_train.pickup_longitude.max(), df_train.dropoff_longitude.max())\n",
        "\n",
        "# minimum and maximum latitude test set\n",
        "min(df_train.pickup_latitude.min(), df_train.dropoff_latitude.min()), \\\n",
        "max(df_train.pickup_latitude.max(), df_train.dropoff_latitude.max())\n",
        "\n",
        "def select_within_boundingbox(df, BB):\n",
        "    return (df.pickup_longitude >= BB[0]) & (df.pickup_longitude <= BB[1]) & \\\n",
        "           (df.pickup_latitude >= BB[2]) & (df.pickup_latitude <= BB[3]) & \\\n",
        "           (df.dropoff_longitude >= BB[0]) & (df.dropoff_longitude <= BB[1]) & \\\n",
        "           (df.dropoff_latitude >= BB[2]) & (df.dropoff_latitude <= BB[3])\n",
        "  \n",
        "# load image of NYC map\n",
        "BB = (-74.5, -72.8, 40.5, 41.8)\n",
        "nyc_map = plt.imread('https://aiblog.nl/download/nyc_-74.5_-72.8_40.5_41.8.png')\n",
        "\n",
        "# load extra image to zoom in on NYC\n",
        "BB_zoom = (-74.3, -73.7, 40.5, 40.9)\n",
        "nyc_map_zoom = plt.imread('https://aiblog.nl/download/nyc_-74.3_-73.7_40.5_40.9.png')\n",
        "\n",
        "df_train = df_train[select_within_boundingbox(df_train, BB)]"
      ],
      "execution_count": 0,
      "outputs": []
    },
    {
      "metadata": {
        "id": "Ji3oJXiL9T9i",
        "colab_type": "code",
        "outputId": "351db42d-a612-48e0-ad02-8a25c4c18ae8",
        "colab": {
          "base_uri": "https://localhost:8080/",
          "height": 34
        }
      },
      "cell_type": "code",
      "source": [
        "# Eead nyc mask and turn into boolean map with\n",
        "# land = True, water = False\n",
        "nyc_mask = plt.imread('https://aiblog.nl/download/nyc_mask-74.5_-72.8_40.5_41.8.png')[:,:,0] > 0.9\n",
        "\n",
        "# Translate longitude/latitude coordinate into image xy coordinate\n",
        "def lonlat_to_xy(longitude, latitude, dx, dy, BB):\n",
        "    return (dx*(longitude - BB[0])/(BB[1]-BB[0])).astype('int'), \\\n",
        "           (dy - dy*(latitude - BB[2])/(BB[3]-BB[2])).astype('int')\n",
        "  \n",
        "pickup_x, pickup_y = lonlat_to_xy(df_train.pickup_longitude, df_train.pickup_latitude, \n",
        "                                  nyc_mask.shape[1], nyc_mask.shape[0], BB)\n",
        "dropoff_x, dropoff_y = lonlat_to_xy(df_train.dropoff_longitude, df_train.dropoff_latitude, \n",
        "                                  nyc_mask.shape[1], nyc_mask.shape[0], BB)\n",
        "\n",
        "\n",
        "idx = (nyc_mask[pickup_y, pickup_x] & nyc_mask[dropoff_y, dropoff_x])\n",
        "print(\"Number of trips in water: {}\".format(np.sum(~idx)))\n",
        "\n",
        "\n",
        "def remove_datapoints_from_water(df):\n",
        "    def lonlat_to_xy(longitude, latitude, dx, dy, BB):\n",
        "        return (dx*(longitude - BB[0])/(BB[1]-BB[0])).astype('int'), \\\n",
        "               (dy - dy*(latitude - BB[2])/(BB[3]-BB[2])).astype('int')\n",
        "      \n",
        "    # define bounding box\n",
        "    BB = (-74.5, -72.8, 40.5, 41.8)\n",
        "    \n",
        "    # read nyc mask and turn into boolean map with\n",
        "    # land = True, water = False\n",
        "    nyc_mask = plt.imread('https://aiblog.nl/download/nyc_mask-74.5_-72.8_40.5_41.8.png')[:,:,0] > 0.9\n",
        "    \n",
        "    # calculate for each lon,lat coordinate the xy coordinate in the mask map\n",
        "    pickup_x, pickup_y = lonlat_to_xy(df.pickup_longitude, df.pickup_latitude, \n",
        "                                      nyc_mask.shape[1], nyc_mask.shape[0], BB)\n",
        "    dropoff_x, dropoff_y = lonlat_to_xy(df.dropoff_longitude, df.dropoff_latitude, \n",
        "                                      nyc_mask.shape[1], nyc_mask.shape[0], BB)    \n",
        "    # calculate boolean index\n",
        "    idx = nyc_mask[pickup_y, pickup_x] & nyc_mask[dropoff_y, dropoff_x]\n",
        "    \n",
        "    # return only datapoints on land\n",
        "    return df[idx]\n",
        "  \n",
        "  \n",
        "\n",
        "df_train = remove_datapoints_from_water(df_train)"
      ],
      "execution_count": 9,
      "outputs": [
        {
          "output_type": "stream",
          "text": [
            "Number of trips in water: 32\n"
          ],
          "name": "stdout"
        }
      ]
    },
    {
      "metadata": {
        "id": "5qKUs-vl62yG",
        "colab_type": "code",
        "outputId": "0d087d8a-12ec-4095-8bee-05fc7a7b26af",
        "colab": {
          "base_uri": "https://localhost:8080/",
          "height": 34
        }
      },
      "cell_type": "code",
      "source": [
        "print('Sample size after preprocessing: %d' % len(df_train))"
      ],
      "execution_count": 10,
      "outputs": [
        {
          "output_type": "stream",
          "text": [
            "Sample size after preprocessing: 171088\n"
          ],
          "name": "stdout"
        }
      ]
    },
    {
      "metadata": {
        "id": "k0V72Woe-SGY",
        "colab_type": "text"
      },
      "cell_type": "markdown",
      "source": [
        "## Feature engineering"
      ]
    },
    {
      "metadata": {
        "id": "ix9FY5s7-Yqh",
        "colab_type": "text"
      },
      "cell_type": "markdown",
      "source": [
        "### Manhattan distance"
      ]
    },
    {
      "metadata": {
        "id": "1kWjPZ43-eIA",
        "colab_type": "code",
        "outputId": "052718aa-daa8-4f25-aa21-143046d8b10a",
        "colab": {
          "base_uri": "https://localhost:8080/",
          "height": 326
        }
      },
      "cell_type": "code",
      "source": [
        "# Given a dataframe, add two new features 'abs_diff_longitude' and 'abs_diff_latitude' reprensenting the vector from\n",
        "# the pickup location to the dropoff location\n",
        "\n",
        "def add_travel_vector_features(df):\n",
        "    df['abs_diff_longitude'] = (df.dropoff_longitude - df.pickup_longitude).abs()\n",
        "    df['abs_diff_latitude'] = (df.dropoff_latitude - df.pickup_latitude).abs()\n",
        "\n",
        "add_travel_vector_features(df_train)\n",
        "\n",
        "\n",
        "def convert_kilometers(train_df):\n",
        "    train_df['abs_diff_longitude'] = train_df.abs_diff_longitude * 79.1\n",
        "    train_df['abs_diff_latitude'] = train_df.abs_diff_latitude * 111\n",
        "    \n",
        "convert_kilometers(df_train)\n",
        "\n",
        "\n",
        "### Angle difference between north, and manhattan roadways\n",
        "meas_ang = 0.506 # 29 degrees = 0.506 radians\n",
        "import math\n",
        "\n",
        "## adding extra features\n",
        "def add_extra_manh_features(df):\n",
        "    df['euclidean_distance'] = (df.abs_diff_latitude**2 + df.abs_diff_longitude**2)**0.5  \n",
        "    df['delta_manh_long'] = (df.euclidean_distance*np.sin(np.arctan(df.abs_diff_longitude / df.abs_diff_latitude)-meas_ang)).abs()\n",
        "    df['delta_manh_lat'] = (df.euclidean_distance*np.cos(np.arctan(df.abs_diff_longitude / df.abs_diff_latitude)-meas_ang)).abs()\n",
        "    df['manh_distance'] = df.delta_manh_long + df.delta_manh_lat\n",
        "    df['euclidean_error'] = (df.manh_distance - df.euclidean_distance)*100 /  df.euclidean_distance\n",
        "\n",
        "    \n",
        "add_extra_manh_features(df_train)\n",
        "\n",
        "tmp = len(df_train)\n",
        "df_train = df_train.dropna(how = 'any', axis = 'rows')\n",
        "print('Raws where distante = NaN: %d' % (tmp-len(df_train)))\n",
        "\n",
        "df_train.head()"
      ],
      "execution_count": 11,
      "outputs": [
        {
          "output_type": "stream",
          "text": [
            "Raws where distante = NaN: 1843\n"
          ],
          "name": "stdout"
        },
        {
          "output_type": "execute_result",
          "data": {
            "text/html": [
              "<div>\n",
              "<style scoped>\n",
              "    .dataframe tbody tr th:only-of-type {\n",
              "        vertical-align: middle;\n",
              "    }\n",
              "\n",
              "    .dataframe tbody tr th {\n",
              "        vertical-align: top;\n",
              "    }\n",
              "\n",
              "    .dataframe thead th {\n",
              "        text-align: right;\n",
              "    }\n",
              "</style>\n",
              "<table border=\"1\" class=\"dataframe\">\n",
              "  <thead>\n",
              "    <tr style=\"text-align: right;\">\n",
              "      <th></th>\n",
              "      <th>key</th>\n",
              "      <th>fare_amount</th>\n",
              "      <th>pickup_datetime</th>\n",
              "      <th>pickup_longitude</th>\n",
              "      <th>pickup_latitude</th>\n",
              "      <th>dropoff_longitude</th>\n",
              "      <th>dropoff_latitude</th>\n",
              "      <th>passenger_count</th>\n",
              "      <th>abs_diff_longitude</th>\n",
              "      <th>abs_diff_latitude</th>\n",
              "      <th>euclidean_distance</th>\n",
              "      <th>delta_manh_long</th>\n",
              "      <th>delta_manh_lat</th>\n",
              "      <th>manh_distance</th>\n",
              "      <th>euclidean_error</th>\n",
              "    </tr>\n",
              "  </thead>\n",
              "  <tbody>\n",
              "    <tr>\n",
              "      <th>0</th>\n",
              "      <td>2012-01-18 10:15:28.0000001</td>\n",
              "      <td>5.3</td>\n",
              "      <td>2012-01-18 10:15:28</td>\n",
              "      <td>-73.999906</td>\n",
              "      <td>40.727304</td>\n",
              "      <td>-74.001324</td>\n",
              "      <td>40.736911</td>\n",
              "      <td>1</td>\n",
              "      <td>0.112164</td>\n",
              "      <td>1.066377</td>\n",
              "      <td>1.072260</td>\n",
              "      <td>0.418746</td>\n",
              "      <td>0.987113</td>\n",
              "      <td>1.405859</td>\n",
              "      <td>31.111806</td>\n",
              "    </tr>\n",
              "    <tr>\n",
              "      <th>1</th>\n",
              "      <td>2012-09-06 14:48:00.00000030</td>\n",
              "      <td>21.5</td>\n",
              "      <td>2012-09-06 14:48:00</td>\n",
              "      <td>-73.974438</td>\n",
              "      <td>40.754583</td>\n",
              "      <td>-73.979488</td>\n",
              "      <td>40.764328</td>\n",
              "      <td>5</td>\n",
              "      <td>0.399455</td>\n",
              "      <td>1.081695</td>\n",
              "      <td>1.153095</td>\n",
              "      <td>0.174879</td>\n",
              "      <td>1.139757</td>\n",
              "      <td>1.314636</td>\n",
              "      <td>14.009324</td>\n",
              "    </tr>\n",
              "    <tr>\n",
              "      <th>4</th>\n",
              "      <td>2012-10-30 12:33:41.0000001</td>\n",
              "      <td>4.0</td>\n",
              "      <td>2012-10-30 12:33:41</td>\n",
              "      <td>-73.989309</td>\n",
              "      <td>40.763072</td>\n",
              "      <td>-73.988742</td>\n",
              "      <td>40.758697</td>\n",
              "      <td>1</td>\n",
              "      <td>0.044850</td>\n",
              "      <td>0.485625</td>\n",
              "      <td>0.487692</td>\n",
              "      <td>0.196144</td>\n",
              "      <td>0.446509</td>\n",
              "      <td>0.642654</td>\n",
              "      <td>31.774575</td>\n",
              "    </tr>\n",
              "    <tr>\n",
              "      <th>5</th>\n",
              "      <td>2014-07-21 22:15:00.000000159</td>\n",
              "      <td>30.0</td>\n",
              "      <td>2014-07-21 22:15:00</td>\n",
              "      <td>-73.875200</td>\n",
              "      <td>40.773922</td>\n",
              "      <td>-73.971135</td>\n",
              "      <td>40.753697</td>\n",
              "      <td>1</td>\n",
              "      <td>7.588458</td>\n",
              "      <td>2.244975</td>\n",
              "      <td>7.913572</td>\n",
              "      <td>5.549451</td>\n",
              "      <td>5.641650</td>\n",
              "      <td>11.191100</td>\n",
              "      <td>41.416557</td>\n",
              "    </tr>\n",
              "    <tr>\n",
              "      <th>6</th>\n",
              "      <td>2011-02-25 23:35:00.000000154</td>\n",
              "      <td>13.3</td>\n",
              "      <td>2011-02-25 23:35:00</td>\n",
              "      <td>-74.008035</td>\n",
              "      <td>40.705807</td>\n",
              "      <td>-73.987173</td>\n",
              "      <td>40.729433</td>\n",
              "      <td>5</td>\n",
              "      <td>1.650184</td>\n",
              "      <td>2.622486</td>\n",
              "      <td>3.098474</td>\n",
              "      <td>0.172327</td>\n",
              "      <td>3.093678</td>\n",
              "      <td>3.266005</td>\n",
              "      <td>5.406900</td>\n",
              "    </tr>\n",
              "  </tbody>\n",
              "</table>\n",
              "</div>"
            ],
            "text/plain": [
              "                             key  fare_amount     pickup_datetime  \\\n",
              "0    2012-01-18 10:15:28.0000001          5.3 2012-01-18 10:15:28   \n",
              "1   2012-09-06 14:48:00.00000030         21.5 2012-09-06 14:48:00   \n",
              "4    2012-10-30 12:33:41.0000001          4.0 2012-10-30 12:33:41   \n",
              "5  2014-07-21 22:15:00.000000159         30.0 2014-07-21 22:15:00   \n",
              "6  2011-02-25 23:35:00.000000154         13.3 2011-02-25 23:35:00   \n",
              "\n",
              "   pickup_longitude  pickup_latitude  dropoff_longitude  dropoff_latitude  \\\n",
              "0        -73.999906        40.727304         -74.001324         40.736911   \n",
              "1        -73.974438        40.754583         -73.979488         40.764328   \n",
              "4        -73.989309        40.763072         -73.988742         40.758697   \n",
              "5        -73.875200        40.773922         -73.971135         40.753697   \n",
              "6        -74.008035        40.705807         -73.987173         40.729433   \n",
              "\n",
              "   passenger_count  abs_diff_longitude  abs_diff_latitude  euclidean_distance  \\\n",
              "0                1            0.112164           1.066377            1.072260   \n",
              "1                5            0.399455           1.081695            1.153095   \n",
              "4                1            0.044850           0.485625            0.487692   \n",
              "5                1            7.588458           2.244975            7.913572   \n",
              "6                5            1.650184           2.622486            3.098474   \n",
              "\n",
              "   delta_manh_long  delta_manh_lat  manh_distance  euclidean_error  \n",
              "0         0.418746        0.987113       1.405859        31.111806  \n",
              "1         0.174879        1.139757       1.314636        14.009324  \n",
              "4         0.196144        0.446509       0.642654        31.774575  \n",
              "5         5.549451        5.641650      11.191100        41.416557  \n",
              "6         0.172327        3.093678       3.266005         5.406900  "
            ]
          },
          "metadata": {
            "tags": []
          },
          "execution_count": 11
        }
      ]
    },
    {
      "metadata": {
        "id": "LZU-hpuIB6KU",
        "colab_type": "text"
      },
      "cell_type": "markdown",
      "source": [
        "## Build the network"
      ]
    },
    {
      "metadata": {
        "id": "i4RVXPF2VlEE",
        "colab_type": "code",
        "colab": {
          "base_uri": "https://localhost:8080/",
          "height": 34
        },
        "outputId": "a97330ec-7750-4a0b-92b8-1d215f025276"
      },
      "cell_type": "code",
      "source": [
        "print(df_train.pickup_datetime[5].dayofweek)"
      ],
      "execution_count": 15,
      "outputs": [
        {
          "output_type": "stream",
          "text": [
            "0\n"
          ],
          "name": "stdout"
        }
      ]
    },
    {
      "metadata": {
        "id": "ZC0QnpIWE--j",
        "colab_type": "code",
        "colab": {}
      },
      "cell_type": "code",
      "source": [
        "def getYear(x):\n",
        "    return x.year%2000\n",
        "  \n",
        "def getMonth(x):\n",
        "  return x.month\n",
        "\n",
        "def getHour(x):\n",
        "  return x.hour  \n",
        "\n",
        "def getHourCos(x):\n",
        "  return math.cos(2* math.pi * x.hour/24)  \n",
        "\n",
        "def getHourSin(x):\n",
        "  return math.sin(2* math.pi * x.hour/24)  \n",
        "\n",
        "def getDayOfWeek(x,day):\n",
        "  #tmp = tf.keras.backend.one_hot(x.dayofweek, 7)\n",
        "  if x.dayofweek == day:\n",
        "    return 1\n",
        "  else :\n",
        "    return 0\n",
        "\n",
        "\n",
        "train_x = pd.DataFrame()\n",
        "train_x['pickup_longitude'] = df_train.pickup_longitude\n",
        "train_x['pickup_latitude'] = df_train.pickup_latitude\n",
        "train_x['dropoff_longitude'] = df_train.dropoff_longitude\n",
        "train_x['dropoff_latitude'] = df_train.dropoff_latitude\n",
        "train_x['passenger_count'] = df_train.passenger_count\n",
        "train_x['manh_distance'] = df_train.manh_distance\n",
        "train_x['pickup_year'] = df_train.pickup_datetime.apply(getYear)\n",
        "train_x['pickup_month'] = df_train.pickup_datetime.apply(getMonth)\n",
        "train_x['pickup_hour'] = df_train.pickup_datetime.apply(getHour)\n",
        "\n",
        "#train_x['pickup_hour_cos'] = df_train.pickup_datetime.apply(getHourCos)\n",
        "#train_x['pickup_hour_sin'] = df_train.pickup_datetime.apply(getHourSin)\n",
        "\n",
        "\"\"\"train_x['pickup_day_of_week_mon'] = df_train.pickup_datetime.apply(lambda x: getDayOfWeek(x,0))\n",
        "train_x['pickup_day_of_week_tue'] = df_train.pickup_datetime.apply(lambda x: getDayOfWeek(x,1))\n",
        "train_x['pickup_day_of_week_wed'] = df_train.pickup_datetime.apply(lambda x: getDayOfWeek(x,2))\n",
        "train_x['pickup_day_of_week_thu'] = df_train.pickup_datetime.apply(lambda x: getDayOfWeek(x,3))\n",
        "train_x['pickup_day_of_week_fri'] = df_train.pickup_datetime.apply(lambda x: getDayOfWeek(x,4))\n",
        "train_x['pickup_day_of_week_sat'] = df_train.pickup_datetime.apply(lambda x: getDayOfWeek(x,5))\n",
        "train_x['pickup_day_of_week_sun'] = df_train.pickup_datetime.apply(lambda x: getDayOfWeek(x,6))\"\"\"\n",
        "\n",
        "\n",
        "train_y = df_train.fare_amount\n",
        "\n",
        "train_size = 0.999 #0.00009 #0.99996\n",
        "train_cnt = floor(train_x.shape[0] * train_size)\n",
        "rand = random.randint(0,train_x.shape[0]-train_cnt)\n",
        "x_train = train_x.iloc[0:train_cnt].values\n",
        "y_train = train_y.iloc[0:train_cnt].values\n",
        "x_test = train_x.iloc[train_cnt:].values\n",
        "y_test = train_y.iloc[train_cnt:].values"
      ],
      "execution_count": 0,
      "outputs": []
    },
    {
      "metadata": {
        "id": "IHEEXEFRqzQi",
        "colab_type": "code",
        "outputId": "952bb011-9e08-412e-90e2-0e05fa8810f2",
        "colab": {
          "base_uri": "https://localhost:8080/",
          "height": 238
        }
      },
      "cell_type": "code",
      "source": [
        "inputs = tf.keras.Input(shape=(9,), name='input_layer')\n",
        "\n",
        "x = tf.keras.layers.Dense(1024, activation='relu')(inputs)\n",
        "x = tf.keras.layers.Dense(512, activation='relu')(x)\n",
        "x = tf.keras.layers.Dense(256, activation='relu')(x)\n",
        "x = tf.keras.layers.Dense(128, activation='relu')(x)\n",
        "predictions = tf.keras.layers.Dense(1, activation='relu')(x)\n",
        "\n",
        "model = tf.keras.Model(inputs=inputs, outputs=predictions)\n",
        "model.compile(optimizer='rmsprop',\n",
        "              loss='mse',\n",
        "              metrics=['accuracy'])\n",
        "print_weights = LambdaCallback(on_epoch_end=lambda batch, logs: print(model.layers[5].get_weights()))\n",
        "#model.fit(x_train, y_train, batch_size=32, epochs=20,callbacks = [print_weights])\n",
        "model.fit(x_train, y_train, batch_size=32, epochs=6)"
      ],
      "execution_count": 65,
      "outputs": [
        {
          "output_type": "stream",
          "text": [
            "Epoch 1/6\n",
            "169075/169075 [==============================] - 31s 183us/step - loss: 25.1797 - acc: 0.0000e+00\n",
            "Epoch 2/6\n",
            "169075/169075 [==============================] - 30s 177us/step - loss: 20.0558 - acc: 0.0000e+00\n",
            "Epoch 3/6\n",
            "169075/169075 [==============================] - 30s 179us/step - loss: 19.6555 - acc: 0.0000e+00\n",
            "Epoch 4/6\n",
            "169075/169075 [==============================] - 30s 176us/step - loss: 19.3473 - acc: 0.0000e+00\n",
            "Epoch 5/6\n",
            "169075/169075 [==============================] - 30s 178us/step - loss: 19.2409 - acc: 0.0000e+00\n",
            "Epoch 6/6\n",
            "169075/169075 [==============================] - 30s 175us/step - loss: 19.1888 - acc: 0.0000e+00\n"
          ],
          "name": "stdout"
        },
        {
          "output_type": "execute_result",
          "data": {
            "text/plain": [
              "<tensorflow.python.keras.callbacks.History at 0x7fa8af084780>"
            ]
          },
          "metadata": {
            "tags": []
          },
          "execution_count": 65
        }
      ]
    },
    {
      "metadata": {
        "id": "xKpopSBJTMML",
        "colab_type": "code",
        "outputId": "1a9f981f-c067-42ca-c2d0-bda4d46637b5",
        "colab": {
          "base_uri": "https://localhost:8080/",
          "height": 51
        }
      },
      "cell_type": "code",
      "source": [
        "model.evaluate(x_train, y_train)\n"
      ],
      "execution_count": 67,
      "outputs": [
        {
          "output_type": "stream",
          "text": [
            "169075/169075 [==============================] - 11s 63us/step\n"
          ],
          "name": "stdout"
        },
        {
          "output_type": "execute_result",
          "data": {
            "text/plain": [
              "[19.267743133822435, 0.0]"
            ]
          },
          "metadata": {
            "tags": []
          },
          "execution_count": 67
        }
      ]
    },
    {
      "metadata": {
        "id": "KENkECg5Zvjt",
        "colab_type": "code",
        "outputId": "70212fee-cbd4-4fa6-dfd3-36fd06165ed1",
        "colab": {
          "base_uri": "https://localhost:8080/",
          "height": 323
        }
      },
      "cell_type": "code",
      "source": [
        "\n",
        "print (y_test[0:15])\n",
        "prediction = model.predict(x_test[0:15])\n",
        "print (prediction)\n",
        "erreurTotale = 0\n",
        "for i in range(15):\n",
        "  erreurTotale += abs(y_test[i] - prediction[i])[0]\n",
        "  \n",
        "print('Erreur moyenne : ' + str(erreurTotale/15))\n"
      ],
      "execution_count": 89,
      "outputs": [
        {
          "output_type": "stream",
          "text": [
            "[36.83  5.    9.3  39.    8.1   6.9   4.5   5.7  16.    8.    8.   10.5\n",
            "  8.1   5.7   7.3 ]\n",
            "[[31.099182 ]\n",
            " [ 6.2038965]\n",
            " [10.259786 ]\n",
            " [34.026577 ]\n",
            " [ 7.3879194]\n",
            " [ 6.5695753]\n",
            " [ 5.1695356]\n",
            " [ 6.1133957]\n",
            " [13.714487 ]\n",
            " [ 6.252534 ]\n",
            " [ 7.308263 ]\n",
            " [11.900133 ]\n",
            " [ 8.830034 ]\n",
            " [ 5.7901754]\n",
            " [ 7.8193026]]\n",
            "Erreur moyenne : 1.4971815427144368\n"
          ],
          "name": "stdout"
        }
      ]
    }
  ]
}