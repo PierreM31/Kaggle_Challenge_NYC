{
  "nbformat": 4,
  "nbformat_minor": 0,
  "metadata": {
    "colab": {
      "name": "model_test.ipynb",
      "version": "0.3.2",
      "provenance": [],
      "include_colab_link": true
    },
    "kernelspec": {
      "name": "python3",
      "display_name": "Python 3"
    },
    "accelerator": "GPU"
  },
  "cells": [
    {
      "cell_type": "markdown",
      "metadata": {
        "id": "view-in-github",
        "colab_type": "text"
      },
      "source": [
        "<a href=\"https://colab.research.google.com/github/PierreM31/Kaggle_Challenge_NYC/blob/master/model_test.ipynb\" target=\"_parent\"><img src=\"https://colab.research.google.com/assets/colab-badge.svg\" alt=\"Open In Colab\"/></a>"
      ]
    },
    {
      "metadata": {
        "id": "grsGjIqV6XOO",
        "colab_type": "text"
      },
      "cell_type": "markdown",
      "source": [
        "## Import lib"
      ]
    },
    {
      "metadata": {
        "id": "53SX9snJ6cD2",
        "colab_type": "text"
      },
      "cell_type": "markdown",
      "source": [
        "### Import TensorFlow GPU"
      ]
    },
    {
      "metadata": {
        "id": "uwTGc5-ifiqy",
        "colab_type": "code",
        "outputId": "ce986047-f40c-48eb-cc26-90a1dda513ea",
        "colab": {
          "base_uri": "https://localhost:8080/",
          "height": 34
        }
      },
      "cell_type": "code",
      "source": [
        "import tensorflow as tf\n",
        "device_name = tf.test.gpu_device_name()\n",
        "if device_name != '/device:GPU:0':\n",
        "  raise SystemError('GPU device not found')\n",
        "print('Found GPU at: {}'.format(device_name))"
      ],
      "execution_count": 3,
      "outputs": [
        {
          "output_type": "stream",
          "text": [
            "Found GPU at: /device:GPU:0\n"
          ],
          "name": "stdout"
        }
      ]
    },
    {
      "metadata": {
        "id": "c9Nc_YgZ6xb_",
        "colab_type": "text"
      },
      "cell_type": "markdown",
      "source": [
        "### Other import\n"
      ]
    },
    {
      "metadata": {
        "id": "iE8DLzxofqkk",
        "colab_type": "code",
        "colab": {}
      },
      "cell_type": "code",
      "source": [
        "import numpy as np\n",
        "import pandas as pd\n",
        "import matplotlib.pyplot as plt\n",
        "from math import floor, ceil\n",
        "import seaborn as sns\n",
        "% matplotlib inline\n",
        "plt.style.use('seaborn-whitegrid')"
      ],
      "execution_count": 0,
      "outputs": []
    },
    {
      "metadata": {
        "id": "_NMc3A5dr2DG",
        "colab_type": "text"
      },
      "cell_type": "markdown",
      "source": [
        "## Import data from BigQuerry "
      ]
    },
    {
      "metadata": {
        "id": "5GNLipqJk7k5",
        "colab_type": "code",
        "colab": {}
      },
      "cell_type": "code",
      "source": [
        "from google.cloud import bigquery\n",
        "\n",
        "client = bigquery.Client(project='bigquery-public-data')"
      ],
      "execution_count": 0,
      "outputs": []
    },
    {
      "metadata": {
        "id": "viBQSO1UsAhW",
        "colab_type": "text"
      },
      "cell_type": "markdown",
      "source": [
        "## Import data directly from Colab\n"
      ]
    },
    {
      "metadata": {
        "id": "0m6VLzNUsJ9m",
        "colab_type": "code",
        "colab": {
          "base_uri": "https://localhost:8080/",
          "height": 309
        },
        "outputId": "72739711-78eb-4e63-ae06-01bf64decb29"
      },
      "cell_type": "code",
      "source": [
        "df_train = pd.read_csv('train.csv', nrows=500_000, parse_dates=[\"pickup_datetime\"])\n",
        "df_train.head()"
      ],
      "execution_count": 5,
      "outputs": [
        {
          "output_type": "execute_result",
          "data": {
            "text/html": [
              "<div>\n",
              "<style scoped>\n",
              "    .dataframe tbody tr th:only-of-type {\n",
              "        vertical-align: middle;\n",
              "    }\n",
              "\n",
              "    .dataframe tbody tr th {\n",
              "        vertical-align: top;\n",
              "    }\n",
              "\n",
              "    .dataframe thead th {\n",
              "        text-align: right;\n",
              "    }\n",
              "</style>\n",
              "<table border=\"1\" class=\"dataframe\">\n",
              "  <thead>\n",
              "    <tr style=\"text-align: right;\">\n",
              "      <th></th>\n",
              "      <th>key</th>\n",
              "      <th>fare_amount</th>\n",
              "      <th>pickup_datetime</th>\n",
              "      <th>pickup_longitude</th>\n",
              "      <th>pickup_latitude</th>\n",
              "      <th>dropoff_longitude</th>\n",
              "      <th>dropoff_latitude</th>\n",
              "      <th>passenger_count</th>\n",
              "    </tr>\n",
              "  </thead>\n",
              "  <tbody>\n",
              "    <tr>\n",
              "      <th>0</th>\n",
              "      <td>2012-01-18 10:15:28.0000001</td>\n",
              "      <td>5.3</td>\n",
              "      <td>2012-01-18 10:15:28</td>\n",
              "      <td>-73.999906</td>\n",
              "      <td>40.727304</td>\n",
              "      <td>-74.001324</td>\n",
              "      <td>40.736911</td>\n",
              "      <td>1</td>\n",
              "    </tr>\n",
              "    <tr>\n",
              "      <th>1</th>\n",
              "      <td>2012-09-06 14:48:00.00000030</td>\n",
              "      <td>21.5</td>\n",
              "      <td>2012-09-06 14:48:00</td>\n",
              "      <td>-73.974438</td>\n",
              "      <td>40.754583</td>\n",
              "      <td>-73.979488</td>\n",
              "      <td>40.764328</td>\n",
              "      <td>5</td>\n",
              "    </tr>\n",
              "    <tr>\n",
              "      <th>2</th>\n",
              "      <td>2009-05-02 22:19:14.0000002</td>\n",
              "      <td>10.5</td>\n",
              "      <td>2009-05-02 22:19:14</td>\n",
              "      <td>0.000000</td>\n",
              "      <td>0.000000</td>\n",
              "      <td>0.000000</td>\n",
              "      <td>0.000000</td>\n",
              "      <td>1</td>\n",
              "    </tr>\n",
              "    <tr>\n",
              "      <th>3</th>\n",
              "      <td>2009-10-31 12:10:59.0000001</td>\n",
              "      <td>5.7</td>\n",
              "      <td>2009-10-31 12:10:59</td>\n",
              "      <td>0.000000</td>\n",
              "      <td>0.000000</td>\n",
              "      <td>0.000000</td>\n",
              "      <td>0.000000</td>\n",
              "      <td>1</td>\n",
              "    </tr>\n",
              "    <tr>\n",
              "      <th>4</th>\n",
              "      <td>2012-10-30 12:33:41.0000001</td>\n",
              "      <td>4.0</td>\n",
              "      <td>2012-10-30 12:33:41</td>\n",
              "      <td>-73.989309</td>\n",
              "      <td>40.763072</td>\n",
              "      <td>-73.988742</td>\n",
              "      <td>40.758697</td>\n",
              "      <td>1</td>\n",
              "    </tr>\n",
              "  </tbody>\n",
              "</table>\n",
              "</div>"
            ],
            "text/plain": [
              "                            key  fare_amount     pickup_datetime  \\\n",
              "0   2012-01-18 10:15:28.0000001          5.3 2012-01-18 10:15:28   \n",
              "1  2012-09-06 14:48:00.00000030         21.5 2012-09-06 14:48:00   \n",
              "2   2009-05-02 22:19:14.0000002         10.5 2009-05-02 22:19:14   \n",
              "3   2009-10-31 12:10:59.0000001          5.7 2009-10-31 12:10:59   \n",
              "4   2012-10-30 12:33:41.0000001          4.0 2012-10-30 12:33:41   \n",
              "\n",
              "   pickup_longitude  pickup_latitude  dropoff_longitude  dropoff_latitude  \\\n",
              "0        -73.999906        40.727304         -74.001324         40.736911   \n",
              "1        -73.974438        40.754583         -73.979488         40.764328   \n",
              "2          0.000000         0.000000           0.000000          0.000000   \n",
              "3          0.000000         0.000000           0.000000          0.000000   \n",
              "4        -73.989309        40.763072         -73.988742         40.758697   \n",
              "\n",
              "   passenger_count  \n",
              "0                1  \n",
              "1                5  \n",
              "2                1  \n",
              "3                1  \n",
              "4                1  "
            ]
          },
          "metadata": {
            "tags": []
          },
          "execution_count": 5
        }
      ]
    },
    {
      "metadata": {
        "id": "uuWjeEhS57T-",
        "colab_type": "text"
      },
      "cell_type": "markdown",
      "source": [
        "## Preprocessing"
      ]
    },
    {
      "metadata": {
        "id": "NJWel4Lp72Hd",
        "colab_type": "code",
        "colab": {
          "base_uri": "https://localhost:8080/",
          "height": 34
        },
        "outputId": "d11a52c4-e9ac-41ee-bf25-05f455e80ac0"
      },
      "cell_type": "code",
      "source": [
        "print('Sample size before preprocessing: %d' % len(df_train))"
      ],
      "execution_count": 6,
      "outputs": [
        {
          "output_type": "stream",
          "text": [
            "Sample size before preprocessing: 174752\n"
          ],
          "name": "stdout"
        }
      ]
    },
    {
      "metadata": {
        "id": "yPeGQN9y56mO",
        "colab_type": "code",
        "colab": {}
      },
      "cell_type": "code",
      "source": [
        "# drop-out negative fare\n",
        "df_train = df_train[df_train.fare_amount>=0]\n",
        "\n",
        "# drop-out non full line\n",
        "df_train = df_train.dropna(how = 'any', axis = 'rows')"
      ],
      "execution_count": 0,
      "outputs": []
    },
    {
      "metadata": {
        "id": "NPBJluS78LmM",
        "colab_type": "code",
        "colab": {}
      },
      "cell_type": "code",
      "source": [
        "# minimum and maximum longitude test set\n",
        "min(df_train.pickup_longitude.min(), df_train.dropoff_longitude.min()), \\\n",
        "max(df_train.pickup_longitude.max(), df_train.dropoff_longitude.max())\n",
        "\n",
        "# minimum and maximum latitude test set\n",
        "min(df_train.pickup_latitude.min(), df_train.dropoff_latitude.min()), \\\n",
        "max(df_train.pickup_latitude.max(), df_train.dropoff_latitude.max())\n",
        "\n",
        "def select_within_boundingbox(df, BB):\n",
        "    return (df.pickup_longitude >= BB[0]) & (df.pickup_longitude <= BB[1]) & \\\n",
        "           (df.pickup_latitude >= BB[2]) & (df.pickup_latitude <= BB[3]) & \\\n",
        "           (df.dropoff_longitude >= BB[0]) & (df.dropoff_longitude <= BB[1]) & \\\n",
        "           (df.dropoff_latitude >= BB[2]) & (df.dropoff_latitude <= BB[3])\n",
        "  \n",
        "# load image of NYC map\n",
        "BB = (-74.5, -72.8, 40.5, 41.8)\n",
        "nyc_map = plt.imread('https://aiblog.nl/download/nyc_-74.5_-72.8_40.5_41.8.png')\n",
        "\n",
        "# load extra image to zoom in on NYC\n",
        "BB_zoom = (-74.3, -73.7, 40.5, 40.9)\n",
        "nyc_map_zoom = plt.imread('https://aiblog.nl/download/nyc_-74.3_-73.7_40.5_40.9.png')\n",
        "\n",
        "df_train = df_train[select_within_boundingbox(df_train, BB)]"
      ],
      "execution_count": 0,
      "outputs": []
    },
    {
      "metadata": {
        "id": "Ji3oJXiL9T9i",
        "colab_type": "code",
        "colab": {
          "base_uri": "https://localhost:8080/",
          "height": 34
        },
        "outputId": "c7fb68e3-a76d-472e-955b-d61e9a519c97"
      },
      "cell_type": "code",
      "source": [
        "# Eead nyc mask and turn into boolean map with\n",
        "# land = True, water = False\n",
        "nyc_mask = plt.imread('https://aiblog.nl/download/nyc_mask-74.5_-72.8_40.5_41.8.png')[:,:,0] > 0.9\n",
        "\n",
        "# Translate longitude/latitude coordinate into image xy coordinate\n",
        "def lonlat_to_xy(longitude, latitude, dx, dy, BB):\n",
        "    return (dx*(longitude - BB[0])/(BB[1]-BB[0])).astype('int'), \\\n",
        "           (dy - dy*(latitude - BB[2])/(BB[3]-BB[2])).astype('int')\n",
        "  \n",
        "pickup_x, pickup_y = lonlat_to_xy(df_train.pickup_longitude, df_train.pickup_latitude, \n",
        "                                  nyc_mask.shape[1], nyc_mask.shape[0], BB)\n",
        "dropoff_x, dropoff_y = lonlat_to_xy(df_train.dropoff_longitude, df_train.dropoff_latitude, \n",
        "                                  nyc_mask.shape[1], nyc_mask.shape[0], BB)\n",
        "\n",
        "\n",
        "idx = (nyc_mask[pickup_y, pickup_x] & nyc_mask[dropoff_y, dropoff_x])\n",
        "print(\"Number of trips in water: {}\".format(np.sum(~idx)))\n",
        "\n",
        "\n",
        "def remove_datapoints_from_water(df):\n",
        "    def lonlat_to_xy(longitude, latitude, dx, dy, BB):\n",
        "        return (dx*(longitude - BB[0])/(BB[1]-BB[0])).astype('int'), \\\n",
        "               (dy - dy*(latitude - BB[2])/(BB[3]-BB[2])).astype('int')\n",
        "      \n",
        "    # define bounding box\n",
        "    BB = (-74.5, -72.8, 40.5, 41.8)\n",
        "    \n",
        "    # read nyc mask and turn into boolean map with\n",
        "    # land = True, water = False\n",
        "    nyc_mask = plt.imread('https://aiblog.nl/download/nyc_mask-74.5_-72.8_40.5_41.8.png')[:,:,0] > 0.9\n",
        "    \n",
        "    # calculate for each lon,lat coordinate the xy coordinate in the mask map\n",
        "    pickup_x, pickup_y = lonlat_to_xy(df.pickup_longitude, df.pickup_latitude, \n",
        "                                      nyc_mask.shape[1], nyc_mask.shape[0], BB)\n",
        "    dropoff_x, dropoff_y = lonlat_to_xy(df.dropoff_longitude, df.dropoff_latitude, \n",
        "                                      nyc_mask.shape[1], nyc_mask.shape[0], BB)    \n",
        "    # calculate boolean index\n",
        "    idx = nyc_mask[pickup_y, pickup_x] & nyc_mask[dropoff_y, dropoff_x]\n",
        "    \n",
        "    # return only datapoints on land\n",
        "    return df[idx]\n",
        "  \n",
        "  \n",
        "\n",
        "df_train = remove_datapoints_from_water(df_train)"
      ],
      "execution_count": 9,
      "outputs": [
        {
          "output_type": "stream",
          "text": [
            "Number of trips in water: 32\n"
          ],
          "name": "stdout"
        }
      ]
    },
    {
      "metadata": {
        "id": "5qKUs-vl62yG",
        "colab_type": "code",
        "colab": {
          "base_uri": "https://localhost:8080/",
          "height": 34
        },
        "outputId": "88aadd8b-6f60-4706-d633-ada4907c59ea"
      },
      "cell_type": "code",
      "source": [
        "print('Sample size after preprocessing: %d' % len(df_train))"
      ],
      "execution_count": 10,
      "outputs": [
        {
          "output_type": "stream",
          "text": [
            "Sample size after preprocessing: 171088\n"
          ],
          "name": "stdout"
        }
      ]
    },
    {
      "metadata": {
        "id": "k0V72Woe-SGY",
        "colab_type": "text"
      },
      "cell_type": "markdown",
      "source": [
        "## Feature engineering"
      ]
    },
    {
      "metadata": {
        "id": "ix9FY5s7-Yqh",
        "colab_type": "text"
      },
      "cell_type": "markdown",
      "source": [
        "### Manhattan distance"
      ]
    },
    {
      "metadata": {
        "id": "1kWjPZ43-eIA",
        "colab_type": "code",
        "colab": {
          "base_uri": "https://localhost:8080/",
          "height": 309
        },
        "outputId": "3c3dfbda-f4ae-47ff-fd0d-e8bfea67e0d5"
      },
      "cell_type": "code",
      "source": [
        "# Given a dataframe, add two new features 'abs_diff_longitude' and 'abs_diff_latitude' reprensenting the vector from\n",
        "# the pickup location to the dropoff location\n",
        "\n",
        "def add_travel_vector_features(df):\n",
        "    df['abs_diff_longitude'] = (df.dropoff_longitude - df.pickup_longitude).abs()\n",
        "    df['abs_diff_latitude'] = (df.dropoff_latitude - df.pickup_latitude).abs()\n",
        "\n",
        "add_travel_vector_features(df_train)\n",
        "\n",
        "\n",
        "def convert_kilometers(train_df):\n",
        "    train_df['abs_diff_longitude'] = train_df.abs_diff_longitude * 79.1\n",
        "    train_df['abs_diff_latitude'] = train_df.abs_diff_latitude * 111\n",
        "    \n",
        "convert_kilometers(df_train)\n",
        "\n",
        "\n",
        "### Angle difference between north, and manhattan roadways\n",
        "meas_ang = 0.506 # 29 degrees = 0.506 radians\n",
        "import math\n",
        "\n",
        "## adding extra features\n",
        "def add_extra_manh_features(df):\n",
        "    df['euclidean_distance'] = (df.abs_diff_latitude**2 + df.abs_diff_longitude**2)**0.5  \n",
        "    df['delta_manh_long'] = (df.euclidean_distance*np.sin(np.arctan(df.abs_diff_longitude / df.abs_diff_latitude)-meas_ang)).abs()\n",
        "    df['delta_manh_lat'] = (df.euclidean_distance*np.cos(np.arctan(df.abs_diff_longitude / df.abs_diff_latitude)-meas_ang)).abs()\n",
        "    df['manh_distance'] = df.delta_manh_long + df.delta_manh_lat\n",
        "    df['euclidean_error'] = (df.manh_distance - df.euclidean_distance)*100 /  df.euclidean_distance\n",
        "\n",
        "    \n",
        "add_extra_manh_features(df_train)\n",
        "\n",
        "\n",
        "df_train.head()"
      ],
      "execution_count": 11,
      "outputs": [
        {
          "output_type": "execute_result",
          "data": {
            "text/html": [
              "<div>\n",
              "<style scoped>\n",
              "    .dataframe tbody tr th:only-of-type {\n",
              "        vertical-align: middle;\n",
              "    }\n",
              "\n",
              "    .dataframe tbody tr th {\n",
              "        vertical-align: top;\n",
              "    }\n",
              "\n",
              "    .dataframe thead th {\n",
              "        text-align: right;\n",
              "    }\n",
              "</style>\n",
              "<table border=\"1\" class=\"dataframe\">\n",
              "  <thead>\n",
              "    <tr style=\"text-align: right;\">\n",
              "      <th></th>\n",
              "      <th>key</th>\n",
              "      <th>fare_amount</th>\n",
              "      <th>pickup_datetime</th>\n",
              "      <th>pickup_longitude</th>\n",
              "      <th>pickup_latitude</th>\n",
              "      <th>dropoff_longitude</th>\n",
              "      <th>dropoff_latitude</th>\n",
              "      <th>passenger_count</th>\n",
              "      <th>abs_diff_longitude</th>\n",
              "      <th>abs_diff_latitude</th>\n",
              "      <th>euclidean_distance</th>\n",
              "      <th>delta_manh_long</th>\n",
              "      <th>delta_manh_lat</th>\n",
              "      <th>manh_distance</th>\n",
              "      <th>euclidean_error</th>\n",
              "    </tr>\n",
              "  </thead>\n",
              "  <tbody>\n",
              "    <tr>\n",
              "      <th>0</th>\n",
              "      <td>2012-01-18 10:15:28.0000001</td>\n",
              "      <td>5.3</td>\n",
              "      <td>2012-01-18 10:15:28</td>\n",
              "      <td>-73.999906</td>\n",
              "      <td>40.727304</td>\n",
              "      <td>-74.001324</td>\n",
              "      <td>40.736911</td>\n",
              "      <td>1</td>\n",
              "      <td>0.112164</td>\n",
              "      <td>1.066377</td>\n",
              "      <td>1.072260</td>\n",
              "      <td>0.418746</td>\n",
              "      <td>0.987113</td>\n",
              "      <td>1.405859</td>\n",
              "      <td>31.111806</td>\n",
              "    </tr>\n",
              "    <tr>\n",
              "      <th>1</th>\n",
              "      <td>2012-09-06 14:48:00.00000030</td>\n",
              "      <td>21.5</td>\n",
              "      <td>2012-09-06 14:48:00</td>\n",
              "      <td>-73.974438</td>\n",
              "      <td>40.754583</td>\n",
              "      <td>-73.979488</td>\n",
              "      <td>40.764328</td>\n",
              "      <td>5</td>\n",
              "      <td>0.399455</td>\n",
              "      <td>1.081695</td>\n",
              "      <td>1.153095</td>\n",
              "      <td>0.174879</td>\n",
              "      <td>1.139757</td>\n",
              "      <td>1.314636</td>\n",
              "      <td>14.009324</td>\n",
              "    </tr>\n",
              "    <tr>\n",
              "      <th>4</th>\n",
              "      <td>2012-10-30 12:33:41.0000001</td>\n",
              "      <td>4.0</td>\n",
              "      <td>2012-10-30 12:33:41</td>\n",
              "      <td>-73.989309</td>\n",
              "      <td>40.763072</td>\n",
              "      <td>-73.988742</td>\n",
              "      <td>40.758697</td>\n",
              "      <td>1</td>\n",
              "      <td>0.044850</td>\n",
              "      <td>0.485625</td>\n",
              "      <td>0.487692</td>\n",
              "      <td>0.196144</td>\n",
              "      <td>0.446509</td>\n",
              "      <td>0.642654</td>\n",
              "      <td>31.774575</td>\n",
              "    </tr>\n",
              "    <tr>\n",
              "      <th>5</th>\n",
              "      <td>2014-07-21 22:15:00.000000159</td>\n",
              "      <td>30.0</td>\n",
              "      <td>2014-07-21 22:15:00</td>\n",
              "      <td>-73.875200</td>\n",
              "      <td>40.773922</td>\n",
              "      <td>-73.971135</td>\n",
              "      <td>40.753697</td>\n",
              "      <td>1</td>\n",
              "      <td>7.588458</td>\n",
              "      <td>2.244975</td>\n",
              "      <td>7.913572</td>\n",
              "      <td>5.549451</td>\n",
              "      <td>5.641650</td>\n",
              "      <td>11.191100</td>\n",
              "      <td>41.416557</td>\n",
              "    </tr>\n",
              "    <tr>\n",
              "      <th>6</th>\n",
              "      <td>2011-02-25 23:35:00.000000154</td>\n",
              "      <td>13.3</td>\n",
              "      <td>2011-02-25 23:35:00</td>\n",
              "      <td>-74.008035</td>\n",
              "      <td>40.705807</td>\n",
              "      <td>-73.987173</td>\n",
              "      <td>40.729433</td>\n",
              "      <td>5</td>\n",
              "      <td>1.650184</td>\n",
              "      <td>2.622486</td>\n",
              "      <td>3.098474</td>\n",
              "      <td>0.172327</td>\n",
              "      <td>3.093678</td>\n",
              "      <td>3.266005</td>\n",
              "      <td>5.406900</td>\n",
              "    </tr>\n",
              "  </tbody>\n",
              "</table>\n",
              "</div>"
            ],
            "text/plain": [
              "                             key  fare_amount     pickup_datetime  \\\n",
              "0    2012-01-18 10:15:28.0000001          5.3 2012-01-18 10:15:28   \n",
              "1   2012-09-06 14:48:00.00000030         21.5 2012-09-06 14:48:00   \n",
              "4    2012-10-30 12:33:41.0000001          4.0 2012-10-30 12:33:41   \n",
              "5  2014-07-21 22:15:00.000000159         30.0 2014-07-21 22:15:00   \n",
              "6  2011-02-25 23:35:00.000000154         13.3 2011-02-25 23:35:00   \n",
              "\n",
              "   pickup_longitude  pickup_latitude  dropoff_longitude  dropoff_latitude  \\\n",
              "0        -73.999906        40.727304         -74.001324         40.736911   \n",
              "1        -73.974438        40.754583         -73.979488         40.764328   \n",
              "4        -73.989309        40.763072         -73.988742         40.758697   \n",
              "5        -73.875200        40.773922         -73.971135         40.753697   \n",
              "6        -74.008035        40.705807         -73.987173         40.729433   \n",
              "\n",
              "   passenger_count  abs_diff_longitude  abs_diff_latitude  euclidean_distance  \\\n",
              "0                1            0.112164           1.066377            1.072260   \n",
              "1                5            0.399455           1.081695            1.153095   \n",
              "4                1            0.044850           0.485625            0.487692   \n",
              "5                1            7.588458           2.244975            7.913572   \n",
              "6                5            1.650184           2.622486            3.098474   \n",
              "\n",
              "   delta_manh_long  delta_manh_lat  manh_distance  euclidean_error  \n",
              "0         0.418746        0.987113       1.405859        31.111806  \n",
              "1         0.174879        1.139757       1.314636        14.009324  \n",
              "4         0.196144        0.446509       0.642654        31.774575  \n",
              "5         5.549451        5.641650      11.191100        41.416557  \n",
              "6         0.172327        3.093678       3.266005         5.406900  "
            ]
          },
          "metadata": {
            "tags": []
          },
          "execution_count": 11
        }
      ]
    },
    {
      "metadata": {
        "id": "LZU-hpuIB6KU",
        "colab_type": "text"
      },
      "cell_type": "markdown",
      "source": [
        "## Build the network"
      ]
    },
    {
      "metadata": {
        "id": "DrDFbhc6B-3d",
        "colab_type": "code",
        "colab": {}
      },
      "cell_type": "code",
      "source": [
        "def get_model(n_x, n_h1, n_h2):\n",
        "    model = tf.keras.Sequential()\n",
        "    model.add(tf.keras.layers.Dense(n_h1, input_dim=n_x, activation='relu'))\n",
        "    model.add(tf.keras.layers.Dense(n_h2, activation='relu'))\n",
        "    model.add(tf.keras.layers.Dropout(0.5))\n",
        "    model.add(tf.keras.layers.Dense(4, activation='softmax'))\n",
        "    model.compile(loss='categorical_crossentropy', optimizer='adam', metrics=['accuracy'])\n",
        "    print(model.summary())\n",
        "\n",
        "    return model"
      ],
      "execution_count": 0,
      "outputs": []
    },
    {
      "metadata": {
        "id": "wkXrQAIzEfYr",
        "colab_type": "code",
        "colab": {
          "base_uri": "https://localhost:8080/",
          "height": 34
        },
        "outputId": "f06a6ec3-b0e3-4fad-c1b2-0defc9198611"
      },
      "cell_type": "code",
      "source": [
        "import keras.backend as K\n",
        "\n",
        "def rmse (y_true, y_pred):\n",
        "    return K.sqrt(K.mean(K.square(y_pred -y_true), axis=-1))"
      ],
      "execution_count": 59,
      "outputs": [
        {
          "output_type": "stream",
          "text": [
            "Using TensorFlow backend.\n"
          ],
          "name": "stderr"
        }
      ]
    },
    {
      "metadata": {
        "id": "ZC0QnpIWE--j",
        "colab_type": "code",
        "colab": {}
      },
      "cell_type": "code",
      "source": [
        "train_x = pd.DataFrame()\n",
        "#train_x['pickup_longitude'] = df_train.pickup_longitude\n",
        "#train_x['pickup_latitude'] = df_train.pickup_latitude\n",
        "#train_x['dropoff_longitude'] = df_train.dropoff_longitude\n",
        "#train_x['dropoff_latitude'] = df_train.dropoff_latitude\n",
        "train_x['passenger_count'] = df_train.passenger_count\n",
        "train_x['manh_distance'] = df_train.manh_distance\n",
        "\n",
        "train_y = df_train.fare_amount\n",
        "\n",
        "train_size = 0.0001\n",
        "train_cnt = floor(train_x.shape[0] * train_size)\n",
        "x_train = train_x.iloc[0:train_cnt].values\n",
        "y_train = train_y.iloc[0:train_cnt].values\n",
        "x_test = train_x.iloc[train_cnt:].values\n",
        "y_test = train_y.iloc[train_cnt:].values"
      ],
      "execution_count": 0,
      "outputs": []
    },
    {
      "metadata": {
        "id": "UBupIaV1JoOo",
        "colab_type": "code",
        "colab": {
          "base_uri": "https://localhost:8080/",
          "height": 68
        },
        "outputId": "c416aa1e-ee57-4450-eaf2-74f29d1a4d45"
      },
      "cell_type": "code",
      "source": [
        "#input = tf.keras.Input(shape=(1,6), name='input_layer')\n",
        "\n",
        "model = tf.keras.Sequential()\n",
        "model.add(tf.keras.layers.Dense(32))\n",
        "model.add(tf.keras.layers.Dense(32))\n",
        "model.compile(tf.keras.optimizers.Adam(lr=0.0001), loss='categorical_crossentropy',metric = [\"accuracy\"])\n",
        "#model.dropout = tf.keras.layers.Dropout(0.5)\n",
        "# This builds the model for the first time:\n",
        "model.fit(x_train, y_train, batch_size=32, epochs=1)"
      ],
      "execution_count": 133,
      "outputs": [
        {
          "output_type": "stream",
          "text": [
            "Epoch 1/1\n",
            "17/17 [==============================] - 2s 129ms/step - loss: 2860.1370\n"
          ],
          "name": "stdout"
        },
        {
          "output_type": "execute_result",
          "data": {
            "text/plain": [
              "<tensorflow.python.keras.callbacks.History at 0x7fb62b0a0128>"
            ]
          },
          "metadata": {
            "tags": []
          },
          "execution_count": 133
        }
      ]
    },
    {
      "metadata": {
        "id": "xKpopSBJTMML",
        "colab_type": "code",
        "colab": {
          "base_uri": "https://localhost:8080/",
          "height": 238
        },
        "outputId": "c4bfb391-c866-4e72-b30c-ac7331a87c29"
      },
      "cell_type": "code",
      "source": [
        "#model.evaluate(x_train, y_train)\n",
        "print (model.layers[1].get_weights()[0])"
      ],
      "execution_count": 134,
      "outputs": [
        {
          "output_type": "stream",
          "text": [
            "[[-0.04704117 -0.23780847  0.05665353 ... -0.1704575  -0.0700181\n",
            "   0.26793444]\n",
            " [-0.19892591 -0.17566265  0.25048667 ... -0.02613095 -0.140344\n",
            "  -0.29264674]\n",
            " [ 0.25148344  0.17939392  0.13581291 ... -0.2656156   0.25507444\n",
            "  -0.1490782 ]\n",
            " ...\n",
            " [-0.15965092 -0.06928495  0.06141564 ...  0.10280624 -0.21995598\n",
            "   0.13263214]\n",
            " [ 0.3037418   0.10099855 -0.27374157 ...  0.22747004 -0.03628492\n",
            "  -0.10952316]\n",
            " [ 0.28657532 -0.0181162   0.15839204 ... -0.2461768  -0.23156306\n",
            "  -0.13364267]]\n"
          ],
          "name": "stdout"
        }
      ]
    },
    {
      "metadata": {
        "id": "5Q0VGuv9cs4H",
        "colab_type": "code",
        "colab": {
          "base_uri": "https://localhost:8080/",
          "height": 2924
        },
        "outputId": "d8e48e25-faf9-4784-f017-f68c3be1effa"
      },
      "cell_type": "code",
      "source": [
        "print (x_train)"
      ],
      "execution_count": 101,
      "outputs": [
        {
          "output_type": "stream",
          "text": [
            "[[1.00000000e+00 1.40585891e+00]\n",
            " [5.00000000e+00 1.31463596e+00]\n",
            " [1.00000000e+00 6.42653585e-01]\n",
            " [1.00000000e+00 1.11911005e+01]\n",
            " [5.00000000e+00 3.26600533e+00]\n",
            " [1.00000000e+00 3.72498677e+00]\n",
            " [2.00000000e+00 1.33131502e+00]\n",
            " [1.00000000e+00 9.41587198e-01]\n",
            " [1.00000000e+00 2.02811375e+00]\n",
            " [1.00000000e+00 1.97841250e+00]\n",
            " [1.00000000e+00 3.06469095e+00]\n",
            " [3.00000000e+00 4.94514260e+00]\n",
            " [1.00000000e+00 9.77347687e-01]\n",
            " [1.00000000e+00 1.34869307e+00]\n",
            " [1.00000000e+00 3.14409635e+00]\n",
            " [1.00000000e+00 1.64840713e+00]\n",
            " [1.00000000e+00 9.81384915e+00]\n",
            " [1.00000000e+00 1.18475803e+00]\n",
            " [1.00000000e+00 9.61430105e-01]\n",
            " [1.00000000e+00 1.57482070e+00]\n",
            " [1.00000000e+00 8.41123297e+00]\n",
            " [1.00000000e+00 5.46536180e+00]\n",
            " [2.00000000e+00 1.72852006e+00]\n",
            " [2.00000000e+00 1.85531368e+00]\n",
            " [1.00000000e+00 2.71782796e+00]\n",
            " [1.00000000e+00 2.54573852e+00]\n",
            " [1.00000000e+00 3.92989054e+00]\n",
            " [3.00000000e+00 8.67455774e+00]\n",
            " [2.00000000e+00 3.53200861e+00]\n",
            " [1.00000000e+00 3.95551847e-01]\n",
            " [3.00000000e+00 6.29039553e-01]\n",
            " [1.00000000e+00 4.51088946e+00]\n",
            " [1.00000000e+00 1.52596731e+00]\n",
            " [1.00000000e+00 7.19397978e+00]\n",
            " [2.00000000e+00 8.75211348e-01]\n",
            " [1.00000000e+00 1.18221403e+00]\n",
            " [4.00000000e+00 6.16319548e+00]\n",
            " [1.00000000e+00 2.31941800e+01]\n",
            " [1.00000000e+00            nan]\n",
            " [6.00000000e+00 3.72358713e+00]\n",
            " [1.00000000e+00 1.71153782e+00]\n",
            " [2.00000000e+00 2.27316103e+00]\n",
            " [1.00000000e+00 2.18945322e+00]\n",
            " [3.00000000e+00 2.13055870e+00]\n",
            " [5.00000000e+00 1.02969684e+01]\n",
            " [1.00000000e+00 2.18935240e+00]\n",
            " [2.00000000e+00 5.50945246e+00]\n",
            " [1.00000000e+00 1.25742581e+01]\n",
            " [2.00000000e+00 1.28959006e+00]\n",
            " [1.00000000e+00 1.43111250e+00]\n",
            " [2.00000000e+00 7.06764176e+00]\n",
            " [1.00000000e+00 2.35340150e+00]\n",
            " [1.00000000e+00 1.81428443e+00]\n",
            " [2.00000000e+00 1.93936552e+00]\n",
            " [3.00000000e+00 2.92807805e+00]\n",
            " [1.00000000e+00 5.62158675e+00]\n",
            " [1.00000000e+00 1.45397325e+00]\n",
            " [1.00000000e+00 1.95534579e+00]\n",
            " [1.00000000e+00 3.29857577e+00]\n",
            " [1.00000000e+00 3.25263860e+00]\n",
            " [2.00000000e+00 6.87893428e-01]\n",
            " [1.00000000e+00 3.29661598e+00]\n",
            " [3.00000000e+00 2.18805932e+00]\n",
            " [6.00000000e+00 6.97051972e+00]\n",
            " [1.00000000e+00 3.20542329e+00]\n",
            " [1.00000000e+00 2.93302764e+00]\n",
            " [1.00000000e+00 1.13709880e+00]\n",
            " [1.00000000e+00 3.09672139e+00]\n",
            " [6.00000000e+00 4.85870782e+00]\n",
            " [1.00000000e+00 1.23227897e+00]\n",
            " [1.00000000e+00 2.22167037e+00]\n",
            " [1.00000000e+00 1.13797967e+01]\n",
            " [1.00000000e+00 4.46775765e+00]\n",
            " [1.00000000e+00 3.57765375e+00]\n",
            " [1.00000000e+00 6.26746244e+00]\n",
            " [5.00000000e+00 1.55441734e+00]\n",
            " [1.00000000e+00 4.48471376e+00]\n",
            " [3.00000000e+00 2.82258109e+00]\n",
            " [5.00000000e+00 9.41145772e-01]\n",
            " [5.00000000e+00 2.37205571e+00]\n",
            " [1.00000000e+00 8.08386645e-01]\n",
            " [1.00000000e+00 3.27371594e+00]\n",
            " [2.00000000e+00 4.49126546e+00]\n",
            " [1.00000000e+00 1.34234589e+00]\n",
            " [1.00000000e+00 1.14340898e-02]\n",
            " [4.00000000e+00 6.37473220e+00]\n",
            " [1.00000000e+00 4.65437501e+00]\n",
            " [1.00000000e+00 2.77806280e+00]\n",
            " [1.00000000e+00 6.10505948e-01]\n",
            " [1.00000000e+00 3.70706858e+00]\n",
            " [2.00000000e+00 2.91201040e+00]\n",
            " [2.00000000e+00 3.66262403e+00]\n",
            " [2.00000000e+00 2.41606009e+00]\n",
            " [1.00000000e+00 1.59090151e+00]\n",
            " [1.00000000e+00 3.66172405e+00]\n",
            " [4.00000000e+00 3.76603157e+00]\n",
            " [1.00000000e+00 1.57992094e+00]\n",
            " [1.00000000e+00 2.02811419e+00]\n",
            " [1.00000000e+00 3.67045647e+00]\n",
            " [1.00000000e+00 1.54145813e+00]\n",
            " [1.00000000e+00 4.76151960e+00]\n",
            " [1.00000000e+00 4.35232140e+00]\n",
            " [6.00000000e+00 2.29834520e+00]\n",
            " [1.00000000e+00 1.35207136e+01]\n",
            " [5.00000000e+00 1.93407589e+00]\n",
            " [2.00000000e+00 9.02175914e+00]\n",
            " [1.00000000e+00 3.12603137e+00]\n",
            " [1.00000000e+00 5.80778132e+00]\n",
            " [2.00000000e+00 1.84844805e+00]\n",
            " [1.00000000e+00 9.98145189e-01]\n",
            " [1.00000000e+00 4.43807267e+00]\n",
            " [5.00000000e+00 2.09183209e+00]\n",
            " [1.00000000e+00 3.66659999e+00]\n",
            " [1.00000000e+00 6.89159944e+00]\n",
            " [1.00000000e+00 1.04736509e+01]\n",
            " [1.00000000e+00 1.19078655e+00]\n",
            " [1.00000000e+00 2.88198414e+00]\n",
            " [1.00000000e+00 2.72822104e+00]\n",
            " [1.00000000e+00 3.82305291e+00]\n",
            " [1.00000000e+00 1.22097537e+00]\n",
            " [2.00000000e+00 1.42597541e+00]\n",
            " [1.00000000e+00 3.14001999e+00]\n",
            " [2.00000000e+00 7.32268189e-01]\n",
            " [1.00000000e+00 3.66308899e+00]\n",
            " [1.00000000e+00 1.10187572e+00]\n",
            " [1.00000000e+00 8.50439476e-03]\n",
            " [2.00000000e+00 1.42319369e+00]\n",
            " [2.00000000e+00 7.81152802e+00]\n",
            " [1.00000000e+00 1.48446902e+00]\n",
            " [2.00000000e+00 3.32889991e+00]\n",
            " [3.00000000e+00 1.65312838e+00]\n",
            " [1.00000000e+00 1.61164406e+00]\n",
            " [1.00000000e+00 1.24764864e+00]\n",
            " [1.00000000e+00 4.89843187e+00]\n",
            " [2.00000000e+00 1.97356139e+00]\n",
            " [1.00000000e+00 2.25511121e+00]\n",
            " [2.00000000e+00 4.51909789e+00]\n",
            " [1.00000000e+00 1.41808469e+00]\n",
            " [2.00000000e+00 1.68267282e+01]\n",
            " [1.00000000e+00 5.12107446e+00]\n",
            " [1.00000000e+00 9.40094675e+00]\n",
            " [1.00000000e+00 2.95546186e+00]\n",
            " [1.00000000e+00 2.91541660e+00]\n",
            " [2.00000000e+00 2.53929260e+00]\n",
            " [1.00000000e+00 1.67749677e+00]\n",
            " [1.00000000e+00 4.89773175e+00]\n",
            " [1.00000000e+00 2.53374103e-01]\n",
            " [2.00000000e+00 2.28240749e+00]\n",
            " [1.00000000e+00 1.50219863e+00]\n",
            " [1.00000000e+00 3.67612474e+00]\n",
            " [2.00000000e+00 3.94903133e+00]\n",
            " [1.00000000e+00 2.63891927e+00]\n",
            " [6.00000000e+00 8.70259018e+00]\n",
            " [1.00000000e+00 4.10889553e+00]\n",
            " [1.00000000e+00 1.04912638e+01]\n",
            " [1.00000000e+00 1.02953072e+00]\n",
            " [3.00000000e+00 3.42924850e+00]\n",
            " [1.00000000e+00 1.18149620e+00]\n",
            " [1.00000000e+00 2.64041534e+00]\n",
            " [1.00000000e+00 2.64110937e+00]\n",
            " [2.00000000e+00 1.37277263e+00]\n",
            " [1.00000000e+00 1.28498851e+00]\n",
            " [1.00000000e+00 4.22624330e+00]\n",
            " [2.00000000e+00 2.59041396e+00]\n",
            " [2.00000000e+00 3.49144456e+00]\n",
            " [1.00000000e+00 2.54240488e+01]\n",
            " [1.00000000e+00 2.08073401e+00]\n",
            " [1.00000000e+00 1.20449865e+00]\n",
            " [1.00000000e+00 2.04239488e+00]\n",
            " [5.00000000e+00 1.21760050e+00]\n",
            " [1.00000000e+00 8.71417633e-01]]\n"
          ],
          "name": "stdout"
        }
      ]
    },
    {
      "metadata": {
        "id": "KENkECg5Zvjt",
        "colab_type": "code",
        "colab": {
          "base_uri": "https://localhost:8080/",
          "height": 812
        },
        "outputId": "a9d6b827-99d9-4993-a6b5-708b68b5005b"
      },
      "cell_type": "code",
      "source": [
        "print (model.predict(x_test[0]))\n",
        "#print(x_test[0])"
      ],
      "execution_count": 66,
      "outputs": [
        {
          "output_type": "error",
          "ename": "InvalidArgumentError",
          "evalue": "ignored",
          "traceback": [
            "\u001b[0;31m---------------------------------------------------------------------------\u001b[0m",
            "\u001b[0;31mInvalidArgumentError\u001b[0m                      Traceback (most recent call last)",
            "\u001b[0;32m<ipython-input-66-9b2045084569>\u001b[0m in \u001b[0;36m<module>\u001b[0;34m()\u001b[0m\n\u001b[0;32m----> 1\u001b[0;31m \u001b[0mprint\u001b[0m \u001b[0;34m(\u001b[0m\u001b[0mmodel\u001b[0m\u001b[0;34m.\u001b[0m\u001b[0mpredict\u001b[0m\u001b[0;34m(\u001b[0m\u001b[0mx_test\u001b[0m\u001b[0;34m[\u001b[0m\u001b[0;36m0\u001b[0m\u001b[0;34m]\u001b[0m\u001b[0;34m)\u001b[0m\u001b[0;34m)\u001b[0m\u001b[0;34m\u001b[0m\u001b[0;34m\u001b[0m\u001b[0m\n\u001b[0m\u001b[1;32m      2\u001b[0m \u001b[0;31m#print(x_test[0])\u001b[0m\u001b[0;34m\u001b[0m\u001b[0;34m\u001b[0m\u001b[0;34m\u001b[0m\u001b[0m\n",
            "\u001b[0;32m/usr/local/lib/python3.6/dist-packages/tensorflow/python/keras/engine/training.py\u001b[0m in \u001b[0;36mpredict\u001b[0;34m(self, x, batch_size, verbose, steps, max_queue_size, workers, use_multiprocessing)\u001b[0m\n\u001b[1;32m   1876\u001b[0m     \u001b[0;32melse\u001b[0m\u001b[0;34m:\u001b[0m\u001b[0;34m\u001b[0m\u001b[0;34m\u001b[0m\u001b[0m\n\u001b[1;32m   1877\u001b[0m       return training_arrays.predict_loop(\n\u001b[0;32m-> 1878\u001b[0;31m           self, x, batch_size=batch_size, verbose=verbose, steps=steps)\n\u001b[0m\u001b[1;32m   1879\u001b[0m \u001b[0;34m\u001b[0m\u001b[0m\n\u001b[1;32m   1880\u001b[0m   \u001b[0;32mdef\u001b[0m \u001b[0mtrain_on_batch\u001b[0m\u001b[0;34m(\u001b[0m\u001b[0mself\u001b[0m\u001b[0;34m,\u001b[0m \u001b[0mx\u001b[0m\u001b[0;34m,\u001b[0m \u001b[0my\u001b[0m\u001b[0;34m=\u001b[0m\u001b[0;32mNone\u001b[0m\u001b[0;34m,\u001b[0m \u001b[0msample_weight\u001b[0m\u001b[0;34m=\u001b[0m\u001b[0;32mNone\u001b[0m\u001b[0;34m,\u001b[0m \u001b[0mclass_weight\u001b[0m\u001b[0;34m=\u001b[0m\u001b[0;32mNone\u001b[0m\u001b[0;34m)\u001b[0m\u001b[0;34m:\u001b[0m\u001b[0;34m\u001b[0m\u001b[0;34m\u001b[0m\u001b[0m\n",
            "\u001b[0;32m/usr/local/lib/python3.6/dist-packages/tensorflow/python/keras/engine/training_arrays.py\u001b[0m in \u001b[0;36mpredict_loop\u001b[0;34m(model, inputs, batch_size, verbose, steps)\u001b[0m\n\u001b[1;32m    324\u001b[0m         \u001b[0mins_batch\u001b[0m\u001b[0;34m[\u001b[0m\u001b[0mi\u001b[0m\u001b[0;34m]\u001b[0m \u001b[0;34m=\u001b[0m \u001b[0mins_batch\u001b[0m\u001b[0;34m[\u001b[0m\u001b[0mi\u001b[0m\u001b[0;34m]\u001b[0m\u001b[0;34m.\u001b[0m\u001b[0mtoarray\u001b[0m\u001b[0;34m(\u001b[0m\u001b[0;34m)\u001b[0m\u001b[0;34m\u001b[0m\u001b[0;34m\u001b[0m\u001b[0m\n\u001b[1;32m    325\u001b[0m \u001b[0;34m\u001b[0m\u001b[0m\n\u001b[0;32m--> 326\u001b[0;31m       \u001b[0mbatch_outs\u001b[0m \u001b[0;34m=\u001b[0m \u001b[0mf\u001b[0m\u001b[0;34m(\u001b[0m\u001b[0mins_batch\u001b[0m\u001b[0;34m)\u001b[0m\u001b[0;34m\u001b[0m\u001b[0;34m\u001b[0m\u001b[0m\n\u001b[0m\u001b[1;32m    327\u001b[0m       \u001b[0;32mif\u001b[0m \u001b[0;32mnot\u001b[0m \u001b[0misinstance\u001b[0m\u001b[0;34m(\u001b[0m\u001b[0mbatch_outs\u001b[0m\u001b[0;34m,\u001b[0m \u001b[0mlist\u001b[0m\u001b[0;34m)\u001b[0m\u001b[0;34m:\u001b[0m\u001b[0;34m\u001b[0m\u001b[0;34m\u001b[0m\u001b[0m\n\u001b[1;32m    328\u001b[0m         \u001b[0mbatch_outs\u001b[0m \u001b[0;34m=\u001b[0m \u001b[0;34m[\u001b[0m\u001b[0mbatch_outs\u001b[0m\u001b[0;34m]\u001b[0m\u001b[0;34m\u001b[0m\u001b[0;34m\u001b[0m\u001b[0m\n",
            "\u001b[0;32m/usr/local/lib/python3.6/dist-packages/tensorflow/python/keras/backend.py\u001b[0m in \u001b[0;36m__call__\u001b[0;34m(self, inputs)\u001b[0m\n\u001b[1;32m   2984\u001b[0m \u001b[0;34m\u001b[0m\u001b[0m\n\u001b[1;32m   2985\u001b[0m     fetched = self._callable_fn(*array_vals,\n\u001b[0;32m-> 2986\u001b[0;31m                                 run_metadata=self.run_metadata)\n\u001b[0m\u001b[1;32m   2987\u001b[0m     \u001b[0mself\u001b[0m\u001b[0;34m.\u001b[0m\u001b[0m_call_fetch_callbacks\u001b[0m\u001b[0;34m(\u001b[0m\u001b[0mfetched\u001b[0m\u001b[0;34m[\u001b[0m\u001b[0;34m-\u001b[0m\u001b[0mlen\u001b[0m\u001b[0;34m(\u001b[0m\u001b[0mself\u001b[0m\u001b[0;34m.\u001b[0m\u001b[0m_fetches\u001b[0m\u001b[0;34m)\u001b[0m\u001b[0;34m:\u001b[0m\u001b[0;34m]\u001b[0m\u001b[0;34m)\u001b[0m\u001b[0;34m\u001b[0m\u001b[0;34m\u001b[0m\u001b[0m\n\u001b[1;32m   2988\u001b[0m     \u001b[0;32mreturn\u001b[0m \u001b[0mfetched\u001b[0m\u001b[0;34m[\u001b[0m\u001b[0;34m:\u001b[0m\u001b[0mlen\u001b[0m\u001b[0;34m(\u001b[0m\u001b[0mself\u001b[0m\u001b[0;34m.\u001b[0m\u001b[0moutputs\u001b[0m\u001b[0;34m)\u001b[0m\u001b[0;34m]\u001b[0m\u001b[0;34m\u001b[0m\u001b[0;34m\u001b[0m\u001b[0m\n",
            "\u001b[0;32m/usr/local/lib/python3.6/dist-packages/tensorflow/python/client/session.py\u001b[0m in \u001b[0;36m__call__\u001b[0;34m(self, *args, **kwargs)\u001b[0m\n\u001b[1;32m   1437\u001b[0m           ret = tf_session.TF_SessionRunCallable(\n\u001b[1;32m   1438\u001b[0m               \u001b[0mself\u001b[0m\u001b[0;34m.\u001b[0m\u001b[0m_session\u001b[0m\u001b[0;34m.\u001b[0m\u001b[0m_session\u001b[0m\u001b[0;34m,\u001b[0m \u001b[0mself\u001b[0m\u001b[0;34m.\u001b[0m\u001b[0m_handle\u001b[0m\u001b[0;34m,\u001b[0m \u001b[0margs\u001b[0m\u001b[0;34m,\u001b[0m \u001b[0mstatus\u001b[0m\u001b[0;34m,\u001b[0m\u001b[0;34m\u001b[0m\u001b[0;34m\u001b[0m\u001b[0m\n\u001b[0;32m-> 1439\u001b[0;31m               run_metadata_ptr)\n\u001b[0m\u001b[1;32m   1440\u001b[0m         \u001b[0;32mif\u001b[0m \u001b[0mrun_metadata\u001b[0m\u001b[0;34m:\u001b[0m\u001b[0;34m\u001b[0m\u001b[0;34m\u001b[0m\u001b[0m\n\u001b[1;32m   1441\u001b[0m           \u001b[0mproto_data\u001b[0m \u001b[0;34m=\u001b[0m \u001b[0mtf_session\u001b[0m\u001b[0;34m.\u001b[0m\u001b[0mTF_GetBuffer\u001b[0m\u001b[0;34m(\u001b[0m\u001b[0mrun_metadata_ptr\u001b[0m\u001b[0;34m)\u001b[0m\u001b[0;34m\u001b[0m\u001b[0;34m\u001b[0m\u001b[0m\n",
            "\u001b[0;32m/usr/local/lib/python3.6/dist-packages/tensorflow/python/framework/errors_impl.py\u001b[0m in \u001b[0;36m__exit__\u001b[0;34m(self, type_arg, value_arg, traceback_arg)\u001b[0m\n\u001b[1;32m    526\u001b[0m             \u001b[0;32mNone\u001b[0m\u001b[0;34m,\u001b[0m \u001b[0;32mNone\u001b[0m\u001b[0;34m,\u001b[0m\u001b[0;34m\u001b[0m\u001b[0;34m\u001b[0m\u001b[0m\n\u001b[1;32m    527\u001b[0m             \u001b[0mcompat\u001b[0m\u001b[0;34m.\u001b[0m\u001b[0mas_text\u001b[0m\u001b[0;34m(\u001b[0m\u001b[0mc_api\u001b[0m\u001b[0;34m.\u001b[0m\u001b[0mTF_Message\u001b[0m\u001b[0;34m(\u001b[0m\u001b[0mself\u001b[0m\u001b[0;34m.\u001b[0m\u001b[0mstatus\u001b[0m\u001b[0;34m.\u001b[0m\u001b[0mstatus\u001b[0m\u001b[0;34m)\u001b[0m\u001b[0;34m)\u001b[0m\u001b[0;34m,\u001b[0m\u001b[0;34m\u001b[0m\u001b[0;34m\u001b[0m\u001b[0m\n\u001b[0;32m--> 528\u001b[0;31m             c_api.TF_GetCode(self.status.status))\n\u001b[0m\u001b[1;32m    529\u001b[0m     \u001b[0;31m# Delete the underlying status object from memory otherwise it stays alive\u001b[0m\u001b[0;34m\u001b[0m\u001b[0;34m\u001b[0m\u001b[0;34m\u001b[0m\u001b[0m\n\u001b[1;32m    530\u001b[0m     \u001b[0;31m# as there is a reference to status from this from the traceback due to\u001b[0m\u001b[0;34m\u001b[0m\u001b[0;34m\u001b[0m\u001b[0;34m\u001b[0m\u001b[0m\n",
            "\u001b[0;31mInvalidArgumentError\u001b[0m: Matrix size-incompatible: In[0]: [2,1], In[1]: [2,32]\n\t [[{{node MatMul_40}} = MatMul[T=DT_FLOAT, transpose_a=false, transpose_b=false, _device=\"/job:localhost/replica:0/task:0/device:GPU:0\"](_arg_input_1_20_0_0/_1531, MatMul_40/ReadVariableOp)]]"
          ]
        }
      ]
    }
  ]
}